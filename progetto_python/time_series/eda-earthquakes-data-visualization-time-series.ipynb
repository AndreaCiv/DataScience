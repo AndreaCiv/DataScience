{
 "cells": [
  {
   "cell_type": "markdown",
   "id": "49c7a13d",
   "metadata": {
    "papermill": {
     "duration": 0.018674,
     "end_time": "2023-08-28T13:43:58.598334",
     "exception": false,
     "start_time": "2023-08-28T13:43:58.579660",
     "status": "completed"
    },
    "tags": []
   },
   "source": [
    "# <div style=\"text-align: center; background-color: #595964; font-family:Times New Roman; color: white; padding: 14px; line-height: 1;border-radius:20px\">📊EDA |Earthquakes Data | Visualization | Time Series </div>"
   ]
  },
  {
   "cell_type": "markdown",
   "id": "4221357a",
   "metadata": {
    "papermill": {
     "duration": 0.0185,
     "end_time": "2023-08-28T13:43:58.635093",
     "exception": false,
     "start_time": "2023-08-28T13:43:58.616593",
     "status": "completed"
    },
    "tags": []
   },
   "source": [
    "<h3 style=\"text-align: left;background-color: #00BFFF; font-family:Times New Roman; color: white; padding: 14px; line-height: 1; border-radius:10px\"> About Dataset📁</h3>"
   ]
  },
  {
   "cell_type": "markdown",
   "id": "ff6575c6",
   "metadata": {
    "papermill": {
     "duration": 0.01786,
     "end_time": "2023-08-28T13:43:58.672999",
     "exception": false,
     "start_time": "2023-08-28T13:43:58.655139",
     "status": "completed"
    },
    "tags": []
   },
   "source": [
    "<h4> Earthquakes Data Dataset contains <mark>12 columns</mark>, each are:</h4>\n",
    "\n",
    "* <b> <mark>1. time in milliseconds</mark></b>\n",
    "* <b> <mark>2. place</mark></b>\n",
    "* <b> <mark>3. status</mark></b>\n",
    "* <b> <mark>4. tsunami (boolean value)</mark></b>\n",
    "* <b> <mark>5. significance</mark></b>\n",
    "* <b> <mark>6. data_type</mark></b>\n",
    "* <b> <mark>7. magnitude</mark></b>\n",
    "* <b> <mark>8. state</mark></b>\n",
    "* <b> <mark>9. longitude</mark></b>\n",
    "* <b> <mark>10. latitude</mark></b>\n",
    "* <b> <mark>11. depth</mark></b>\n",
    "* <b> <mark>12. date</mark></b>\n"
   ]
  },
  {
   "cell_type": "markdown",
   "id": "93150102",
   "metadata": {
    "papermill": {
     "duration": 0.01764,
     "end_time": "2023-08-28T13:43:58.708767",
     "exception": false,
     "start_time": "2023-08-28T13:43:58.691127",
     "status": "completed"
    },
    "tags": []
   },
   "source": [
    "<a id=\"1\"></a>\n",
    "# <div style=\"text-align: center; background-color: #00BFFF; font-family:Times New Roman; color: white; padding: 14px; line-height: 1;border-radius:20px\">1. Import Necessary Libraries</div>"
   ]
  },
  {
   "cell_type": "code",
   "id": "004c163b",
   "metadata": {
    "_kg_hide-output": true,
    "execution": {
     "iopub.execute_input": "2023-08-28T13:43:58.747325Z",
     "iopub.status.busy": "2023-08-28T13:43:58.746871Z",
     "iopub.status.idle": "2023-08-28T13:44:29.036725Z",
     "shell.execute_reply": "2023-08-28T13:44:29.035644Z"
    },
    "papermill": {
     "duration": 30.312077,
     "end_time": "2023-08-28T13:44:29.039468",
     "exception": false,
     "start_time": "2023-08-28T13:43:58.727391",
     "status": "completed"
    },
    "tags": []
   },
   "source": [
    "!pip install ydata-profiling"
   ],
   "outputs": [],
   "execution_count": null
  },
  {
   "cell_type": "code",
   "id": "fab2475a",
   "metadata": {
    "_cell_guid": "b1076dfc-b9ad-4769-8c92-a6c4dae69d19",
    "_kg_hide-output": true,
    "_uuid": "8f2839f25d086af736a60e9eeb907d3b93b6e0e5",
    "execution": {
     "iopub.execute_input": "2023-08-28T13:44:29.084438Z",
     "iopub.status.busy": "2023-08-28T13:44:29.084005Z",
     "iopub.status.idle": "2023-08-28T13:44:39.246858Z",
     "shell.execute_reply": "2023-08-28T13:44:39.245800Z"
    },
    "papermill": {
     "duration": 10.188885,
     "end_time": "2023-08-28T13:44:39.250100",
     "exception": false,
     "start_time": "2023-08-28T13:44:29.061215",
     "status": "completed"
    },
    "tags": []
   },
   "source": [
    "import numpy as np # linear algebra\n",
    "import pandas as pd # data processing, CSV file I/O (e.g. pd.read_csv)\n",
    "import shap\n",
    "import matplotlib.pyplot as plt\n",
    "import seaborn as sns\n",
    "import plotly.graph_objects as go\n",
    "import plotly.express as px\n",
    "import missingno as mno\n",
    "import plotly.offline as pyo \n",
    "import plotly.figure_factory as ff\n",
    "import plotly.io as pio\n",
    "from wordcloud import WordCloud\n",
    "color_pal = sns.color_palette()\n",
    "plt.style.use('seaborn-dark-palette')\n",
    "plt.style.use('dark_background')\n",
    "\n",
    "import nltk\n",
    "\n",
    "import warnings\n",
    "warnings.filterwarnings('ignore')\n",
    "sns.set_theme(style='darkgrid', palette='colorblind')\n",
    "from sklearn.preprocessing import LabelEncoder \n",
    "le = LabelEncoder()\n",
    "\n",
    "#Model\n",
    "from sklearn.model_selection import GridSearchCV, train_test_split\n",
    "from sklearn.linear_model import LinearRegression\n",
    "from sklearn.ensemble import RandomForestRegressor, GradientBoostingRegressor\n",
    "from xgboost import XGBRegressor\n",
    "from sklearn.metrics import r2_score, mean_absolute_error, mean_squared_error"
   ],
   "outputs": [],
   "execution_count": null
  },
  {
   "cell_type": "markdown",
   "id": "dd65ea77",
   "metadata": {
    "papermill": {
     "duration": 0.02152,
     "end_time": "2023-08-28T13:44:39.293243",
     "exception": false,
     "start_time": "2023-08-28T13:44:39.271723",
     "status": "completed"
    },
    "tags": []
   },
   "source": [
    "<a id=\"1\"></a>\n",
    "# <div style=\"text-align: center; background-color: #00BFFF; font-family:Times New Roman; color: white; padding: 14px; line-height: 1;border-radius:20px\">2. Exploratory Data Analysis 📊</div>"
   ]
  },
  {
   "cell_type": "code",
   "id": "76299ab8",
   "metadata": {
    "execution": {
     "iopub.execute_input": "2023-08-28T13:44:39.338005Z",
     "iopub.status.busy": "2023-08-28T13:44:39.337596Z",
     "iopub.status.idle": "2023-08-28T13:44:56.985284Z",
     "shell.execute_reply": "2023-08-28T13:44:56.984133Z"
    },
    "papermill": {
     "duration": 17.673825,
     "end_time": "2023-08-28T13:44:56.988558",
     "exception": false,
     "start_time": "2023-08-28T13:44:39.314733",
     "status": "completed"
    },
    "tags": []
   },
   "source": [
    "df=pd.read_csv('/kaggle/input/the-ultimate-earthquake-dataset-from-1990-2023/Eartquakes-1990-2023.csv')"
   ],
   "outputs": [],
   "execution_count": null
  },
  {
   "cell_type": "code",
   "id": "e146b0ec",
   "metadata": {
    "execution": {
     "iopub.execute_input": "2023-08-28T13:44:57.047900Z",
     "iopub.status.busy": "2023-08-28T13:44:57.047285Z",
     "iopub.status.idle": "2023-08-28T13:44:57.098966Z",
     "shell.execute_reply": "2023-08-28T13:44:57.097596Z"
    },
    "papermill": {
     "duration": 0.087056,
     "end_time": "2023-08-28T13:44:57.102131",
     "exception": false,
     "start_time": "2023-08-28T13:44:57.015075",
     "status": "completed"
    },
    "tags": []
   },
   "source": [
    "df.head()"
   ],
   "outputs": [],
   "execution_count": null
  },
  {
   "cell_type": "code",
   "id": "d8db8b93",
   "metadata": {
    "execution": {
     "iopub.execute_input": "2023-08-28T13:44:57.183379Z",
     "iopub.status.busy": "2023-08-28T13:44:57.182559Z",
     "iopub.status.idle": "2023-08-28T13:44:57.190895Z",
     "shell.execute_reply": "2023-08-28T13:44:57.190095Z"
    },
    "papermill": {
     "duration": 0.059186,
     "end_time": "2023-08-28T13:44:57.194576",
     "exception": false,
     "start_time": "2023-08-28T13:44:57.135390",
     "status": "completed"
    },
    "tags": []
   },
   "source": [
    "df.shape"
   ],
   "outputs": [],
   "execution_count": null
  },
  {
   "cell_type": "code",
   "id": "b373b5ef",
   "metadata": {
    "execution": {
     "iopub.execute_input": "2023-08-28T13:44:57.244835Z",
     "iopub.status.busy": "2023-08-28T13:44:57.243796Z",
     "iopub.status.idle": "2023-08-28T13:44:57.250835Z",
     "shell.execute_reply": "2023-08-28T13:44:57.249753Z"
    },
    "papermill": {
     "duration": 0.03281,
     "end_time": "2023-08-28T13:44:57.253223",
     "exception": false,
     "start_time": "2023-08-28T13:44:57.220413",
     "status": "completed"
    },
    "tags": []
   },
   "source": [
    "df.columns"
   ],
   "outputs": [],
   "execution_count": null
  },
  {
   "cell_type": "code",
   "id": "ed6bc2da",
   "metadata": {
    "execution": {
     "iopub.execute_input": "2023-08-28T13:44:57.300566Z",
     "iopub.status.busy": "2023-08-28T13:44:57.299387Z",
     "iopub.status.idle": "2023-08-28T13:44:58.236794Z",
     "shell.execute_reply": "2023-08-28T13:44:58.235426Z"
    },
    "papermill": {
     "duration": 0.96415,
     "end_time": "2023-08-28T13:44:58.239371",
     "exception": false,
     "start_time": "2023-08-28T13:44:57.275221",
     "status": "completed"
    },
    "tags": []
   },
   "source": [
    "df.describe().T"
   ],
   "outputs": [],
   "execution_count": null
  },
  {
   "cell_type": "code",
   "id": "7e3a163f",
   "metadata": {
    "execution": {
     "iopub.execute_input": "2023-08-28T13:44:58.286546Z",
     "iopub.status.busy": "2023-08-28T13:44:58.286133Z",
     "iopub.status.idle": "2023-08-28T13:45:09.001767Z",
     "shell.execute_reply": "2023-08-28T13:45:09.000563Z"
    },
    "papermill": {
     "duration": 10.741967,
     "end_time": "2023-08-28T13:45:09.004399",
     "exception": false,
     "start_time": "2023-08-28T13:44:58.262432",
     "status": "completed"
    },
    "tags": []
   },
   "source": [
    "df.describe(include = \"object\").T"
   ],
   "outputs": [],
   "execution_count": null
  },
  {
   "cell_type": "code",
   "id": "04d5051f",
   "metadata": {
    "execution": {
     "iopub.execute_input": "2023-08-28T13:45:09.052942Z",
     "iopub.status.busy": "2023-08-28T13:45:09.051624Z",
     "iopub.status.idle": "2023-08-28T13:45:09.061205Z",
     "shell.execute_reply": "2023-08-28T13:45:09.060200Z"
    },
    "papermill": {
     "duration": 0.036273,
     "end_time": "2023-08-28T13:45:09.063679",
     "exception": false,
     "start_time": "2023-08-28T13:45:09.027406",
     "status": "completed"
    },
    "tags": []
   },
   "source": [
    "df.dtypes"
   ],
   "outputs": [],
   "execution_count": null
  },
  {
   "cell_type": "code",
   "id": "f113c6f3",
   "metadata": {
    "execution": {
     "iopub.execute_input": "2023-08-28T13:45:09.111400Z",
     "iopub.status.busy": "2023-08-28T13:45:09.111011Z",
     "iopub.status.idle": "2023-08-28T13:45:09.130024Z",
     "shell.execute_reply": "2023-08-28T13:45:09.128867Z"
    },
    "papermill": {
     "duration": 0.046381,
     "end_time": "2023-08-28T13:45:09.132996",
     "exception": false,
     "start_time": "2023-08-28T13:45:09.086615",
     "status": "completed"
    },
    "tags": []
   },
   "source": [
    "df.info()"
   ],
   "outputs": [],
   "execution_count": null
  },
  {
   "cell_type": "code",
   "id": "fac48d46",
   "metadata": {
    "execution": {
     "iopub.execute_input": "2023-08-28T13:45:09.181759Z",
     "iopub.status.busy": "2023-08-28T13:45:09.181375Z",
     "iopub.status.idle": "2023-08-28T13:45:15.205832Z",
     "shell.execute_reply": "2023-08-28T13:45:15.204667Z"
    },
    "papermill": {
     "duration": 6.051647,
     "end_time": "2023-08-28T13:45:15.208400",
     "exception": false,
     "start_time": "2023-08-28T13:45:09.156753",
     "status": "completed"
    },
    "tags": []
   },
   "source": [
    "unique_values = df.nunique()\n",
    "unique_values"
   ],
   "outputs": [],
   "execution_count": null
  },
  {
   "cell_type": "markdown",
   "id": "a04a21be",
   "metadata": {
    "papermill": {
     "duration": 0.022565,
     "end_time": "2023-08-28T13:45:15.254261",
     "exception": false,
     "start_time": "2023-08-28T13:45:15.231696",
     "status": "completed"
    },
    "tags": []
   },
   "source": [
    "# <div style=\"text-align: center; background-color: #6495ED; font-family:Times New Roman; color: white; padding: 14px; line-height: 1;border-radius:20px\">3. Null values</div>"
   ]
  },
  {
   "cell_type": "code",
   "id": "2eb97945",
   "metadata": {
    "execution": {
     "iopub.execute_input": "2023-08-28T13:45:15.302160Z",
     "iopub.status.busy": "2023-08-28T13:45:15.301725Z",
     "iopub.status.idle": "2023-08-28T13:45:20.844965Z",
     "shell.execute_reply": "2023-08-28T13:45:20.843861Z"
    },
    "papermill": {
     "duration": 5.57024,
     "end_time": "2023-08-28T13:45:20.847507",
     "exception": false,
     "start_time": "2023-08-28T13:45:15.277267",
     "status": "completed"
    },
    "tags": []
   },
   "source": [
    "df.isna().sum()"
   ],
   "outputs": [],
   "execution_count": null
  },
  {
   "cell_type": "markdown",
   "id": "c767b87e",
   "metadata": {
    "papermill": {
     "duration": 0.024646,
     "end_time": "2023-08-28T13:45:20.895548",
     "exception": false,
     "start_time": "2023-08-28T13:45:20.870902",
     "status": "completed"
    },
    "tags": []
   },
   "source": [
    "# <div style=\"text-align: center; background-color: #6495ED; font-family:Times New Roman; color: white; padding: 14px; line-height: 1;border-radius:20px\">4. Duplicate rows</div>"
   ]
  },
  {
   "cell_type": "code",
   "id": "3f935ae6",
   "metadata": {
    "execution": {
     "iopub.execute_input": "2023-08-28T13:45:20.944018Z",
     "iopub.status.busy": "2023-08-28T13:45:20.943265Z",
     "iopub.status.idle": "2023-08-28T13:45:30.121381Z",
     "shell.execute_reply": "2023-08-28T13:45:30.120274Z"
    },
    "papermill": {
     "duration": 9.205721,
     "end_time": "2023-08-28T13:45:30.124379",
     "exception": false,
     "start_time": "2023-08-28T13:45:20.918658",
     "status": "completed"
    },
    "tags": []
   },
   "source": [
    "# Finding duplicate rows\n",
    "duplicate_rows = df[df.duplicated(keep='first')]\n",
    "\n",
    "# Number of duplicate rows\n",
    "num_duplicates = duplicate_rows.shape[0]\n",
    "\n",
    "# Displaying the duplicate rows\n",
    "print(f\"Number of duplicate rows: {num_duplicates}\")\n",
    "duplicate_rows"
   ],
   "outputs": [],
   "execution_count": null
  },
  {
   "cell_type": "code",
   "id": "8b909297",
   "metadata": {
    "execution": {
     "iopub.execute_input": "2023-08-28T13:45:30.175209Z",
     "iopub.status.busy": "2023-08-28T13:45:30.174497Z",
     "iopub.status.idle": "2023-08-28T13:45:39.671340Z",
     "shell.execute_reply": "2023-08-28T13:45:39.670160Z"
    },
    "papermill": {
     "duration": 9.524961,
     "end_time": "2023-08-28T13:45:39.674210",
     "exception": false,
     "start_time": "2023-08-28T13:45:30.149249",
     "status": "completed"
    },
    "tags": []
   },
   "source": [
    "# Drop duplicates rows\n",
    "df.drop_duplicates(keep='first', inplace=True)"
   ],
   "outputs": [],
   "execution_count": null
  },
  {
   "cell_type": "markdown",
   "id": "1221cadb",
   "metadata": {
    "papermill": {
     "duration": 0.023565,
     "end_time": "2023-08-28T13:45:39.723014",
     "exception": false,
     "start_time": "2023-08-28T13:45:39.699449",
     "status": "completed"
    },
    "tags": []
   },
   "source": [
    "# <div style=\"text-align: center; background-color: #6495ED; font-family:Times New Roman; color: white; padding: 14px; line-height: 1;border-radius:20px\">5. Feature engineering</div>\n",
    "\n"
   ]
  },
  {
   "cell_type": "code",
   "id": "2ee9cccf",
   "metadata": {
    "execution": {
     "iopub.execute_input": "2023-08-28T13:45:39.774643Z",
     "iopub.status.busy": "2023-08-28T13:45:39.774206Z",
     "iopub.status.idle": "2023-08-28T13:45:40.383515Z",
     "shell.execute_reply": "2023-08-28T13:45:40.381947Z"
    },
    "papermill": {
     "duration": 0.638317,
     "end_time": "2023-08-28T13:45:40.386031",
     "exception": false,
     "start_time": "2023-08-28T13:45:39.747714",
     "status": "completed"
    },
    "tags": []
   },
   "source": [
    "state_counts = df['state'].value_counts()\n",
    "print(state_counts.head(20))\n"
   ],
   "outputs": [],
   "execution_count": null
  },
  {
   "cell_type": "code",
   "id": "e9e58841",
   "metadata": {
    "execution": {
     "iopub.execute_input": "2023-08-28T13:45:40.435648Z",
     "iopub.status.busy": "2023-08-28T13:45:40.435264Z",
     "iopub.status.idle": "2023-08-28T13:45:47.610697Z",
     "shell.execute_reply": "2023-08-28T13:45:47.609183Z"
    },
    "papermill": {
     "duration": 7.2037,
     "end_time": "2023-08-28T13:45:47.613557",
     "exception": false,
     "start_time": "2023-08-28T13:45:40.409857",
     "status": "completed"
    },
    "tags": []
   },
   "source": [
    "# Convert the 'date' column to datetime data type\n",
    "df['date'] = pd.to_datetime(df['date'])\n",
    "\n",
    "# Convert the 'time' column to time data type\n",
    "df['time'] = pd.to_datetime(df['time']).dt.time"
   ],
   "outputs": [],
   "execution_count": null
  },
  {
   "cell_type": "code",
   "id": "fe3897de",
   "metadata": {
    "execution": {
     "iopub.execute_input": "2023-08-28T13:45:47.664050Z",
     "iopub.status.busy": "2023-08-28T13:45:47.663598Z",
     "iopub.status.idle": "2023-08-28T13:45:48.359265Z",
     "shell.execute_reply": "2023-08-28T13:45:48.358118Z"
    },
    "papermill": {
     "duration": 0.724336,
     "end_time": "2023-08-28T13:45:48.361975",
     "exception": false,
     "start_time": "2023-08-28T13:45:47.637639",
     "status": "completed"
    },
    "tags": []
   },
   "source": [
    "# Filter earthquakes with magnitudo greater than 7\n",
    "filtered_magnitudo = df[df['magnitudo'] > 7]"
   ],
   "outputs": [],
   "execution_count": null
  },
  {
   "cell_type": "code",
   "id": "1389eec5",
   "metadata": {
    "execution": {
     "iopub.execute_input": "2023-08-28T13:45:48.411760Z",
     "iopub.status.busy": "2023-08-28T13:45:48.411333Z",
     "iopub.status.idle": "2023-08-28T13:45:49.054457Z",
     "shell.execute_reply": "2023-08-28T13:45:49.053235Z"
    },
    "papermill": {
     "duration": 0.671245,
     "end_time": "2023-08-28T13:45:49.057393",
     "exception": false,
     "start_time": "2023-08-28T13:45:48.386148",
     "status": "completed"
    },
    "tags": []
   },
   "source": [
    "# Filter earthquakes in California \n",
    "filtered_California = df[df['state'] == 'California']"
   ],
   "outputs": [],
   "execution_count": null
  },
  {
   "cell_type": "code",
   "id": "ed28982b",
   "metadata": {
    "execution": {
     "iopub.execute_input": "2023-08-28T13:45:49.108466Z",
     "iopub.status.busy": "2023-08-28T13:45:49.108079Z",
     "iopub.status.idle": "2023-08-28T13:45:49.652019Z",
     "shell.execute_reply": "2023-08-28T13:45:49.650791Z"
    },
    "papermill": {
     "duration": 0.573058,
     "end_time": "2023-08-28T13:45:49.654595",
     "exception": false,
     "start_time": "2023-08-28T13:45:49.081537",
     "status": "completed"
    },
    "tags": []
   },
   "source": [
    "# Filter earthquakes in Alaska \n",
    "filtered_Alaska= df[df['state'] == 'Alaska']"
   ],
   "outputs": [],
   "execution_count": null
  },
  {
   "cell_type": "code",
   "id": "5fdd4842",
   "metadata": {
    "execution": {
     "iopub.execute_input": "2023-08-28T13:45:49.705721Z",
     "iopub.status.busy": "2023-08-28T13:45:49.705328Z",
     "iopub.status.idle": "2023-08-28T13:45:50.255675Z",
     "shell.execute_reply": "2023-08-28T13:45:50.254487Z"
    },
    "papermill": {
     "duration": 0.579113,
     "end_time": "2023-08-28T13:45:50.258380",
     "exception": false,
     "start_time": "2023-08-28T13:45:49.679267",
     "status": "completed"
    },
    "tags": []
   },
   "source": [
    "# Filter earthquakes in Nevada\n",
    "filtered_Nevada = df[df['state'] == 'Nevada']"
   ],
   "outputs": [],
   "execution_count": null
  },
  {
   "cell_type": "code",
   "id": "369a9316",
   "metadata": {
    "execution": {
     "iopub.execute_input": "2023-08-28T13:45:50.314510Z",
     "iopub.status.busy": "2023-08-28T13:45:50.313699Z",
     "iopub.status.idle": "2023-08-28T13:45:50.879074Z",
     "shell.execute_reply": "2023-08-28T13:45:50.877932Z"
    },
    "papermill": {
     "duration": 0.597443,
     "end_time": "2023-08-28T13:45:50.881812",
     "exception": false,
     "start_time": "2023-08-28T13:45:50.284369",
     "status": "completed"
    },
    "tags": []
   },
   "source": [
    "# Filter earthquakes in Hawaii \n",
    "filtered_Washington = df[df['state'] == 'Washington']"
   ],
   "outputs": [],
   "execution_count": null
  },
  {
   "cell_type": "markdown",
   "id": "169bb749",
   "metadata": {
    "papermill": {
     "duration": 0.023489,
     "end_time": "2023-08-28T13:45:50.929393",
     "exception": false,
     "start_time": "2023-08-28T13:45:50.905904",
     "status": "completed"
    },
    "tags": []
   },
   "source": [
    "# <div style=\"text-align: center; background-color: #6495ED; font-family:Times New Roman; color: white; padding: 14px; line-height: 1;border-radius:20px\">6. Time Series</div>"
   ]
  },
  {
   "cell_type": "code",
   "id": "6dfb8da2",
   "metadata": {
    "execution": {
     "iopub.execute_input": "2023-08-28T13:45:50.980415Z",
     "iopub.status.busy": "2023-08-28T13:45:50.979982Z",
     "iopub.status.idle": "2023-08-28T13:45:52.610910Z",
     "shell.execute_reply": "2023-08-28T13:45:52.610024Z"
    },
    "papermill": {
     "duration": 1.659695,
     "end_time": "2023-08-28T13:45:52.613507",
     "exception": false,
     "start_time": "2023-08-28T13:45:50.953812",
     "status": "completed"
    },
    "tags": []
   },
   "source": [
    "# Calculate the sum of magnitudo for  date\n",
    "magnitudo_date = filtered_magnitudo.groupby('date')['magnitudo'].sum().reset_index()\n",
    "\n",
    "# Create a line plot using Plotly Express\n",
    "# x-axis: International Student, y-axis:  date ,\n",
    "# labels for the x-axis, title, and customized height\n",
    "fig_magnitudo_date = px.line(\n",
    "    magnitudo_date,  # DataFrame containing the data\n",
    "    x='date',   # x-values: date\n",
    "    y='magnitudo',  # y-values :magnitudo\n",
    "    title='magnitudo by date',  # Set the title of the plot\n",
    "    height=800  # Set the height of the plot\n",
    ")\n",
    "\n",
    "# Display the plot\n",
    "fig_magnitudo_date.show()\n",
    "\n",
    "# Calculate the sum of magnitudo for  date\n",
    "magnitudo_date = filtered_magnitudo.groupby('time')['magnitudo'].sum().reset_index()\n",
    "\n",
    "# Create a line plot using Plotly Express\n",
    "# x-axis: International Student, y-axis:  time ,\n",
    "# labels for the x-axis, title, and customized height\n",
    "fig_magnitudo_date = px.line(\n",
    "    magnitudo_date,  # DataFrame containing the data\n",
    "    x='time',   # x-values: time\n",
    "    y='magnitudo',  # y-values :magnitudo\n",
    "    title='magnitudo by time',  # Set the title of the plot\n",
    "    height=800  # Set the height of the plot\n",
    ")\n",
    "\n",
    "# Display the plot\n",
    "fig_magnitudo_date.show()"
   ],
   "outputs": [],
   "execution_count": null
  },
  {
   "cell_type": "code",
   "id": "31c93d32",
   "metadata": {
    "execution": {
     "iopub.execute_input": "2023-08-28T13:45:52.670872Z",
     "iopub.status.busy": "2023-08-28T13:45:52.670451Z",
     "iopub.status.idle": "2023-08-28T13:46:03.512358Z",
     "shell.execute_reply": "2023-08-28T13:46:03.511405Z"
    },
    "papermill": {
     "duration": 11.251792,
     "end_time": "2023-08-28T13:46:03.894751",
     "exception": false,
     "start_time": "2023-08-28T13:45:52.642959",
     "status": "completed"
    },
    "tags": []
   },
   "source": [
    "# Calculate the sum of magnitudo for  date\n",
    "California_data = filtered_California.groupby('date')['magnitudo'].sum().reset_index()\n",
    "\n",
    "# Create a line plot using Plotly Express\n",
    "# x-axis: International Student, y-axis:  California ,\n",
    "# labels for the x-axis, title, and customized height\n",
    "fig_California_data = px.line(\n",
    "    California_data,  # DataFrame containing the data\n",
    "    x='date',   # x-values: date\n",
    "    y='magnitudo',  # y-values :magnitudo\n",
    "    title='date by magnitudo',  # Set the title of the plot\n",
    "    height=800  # Set the height of the plot\n",
    ")\n",
    "\n",
    "# Display the plot\n",
    "fig_California_data.show()"
   ],
   "outputs": [],
   "execution_count": null
  },
  {
   "cell_type": "code",
   "id": "8ff11d83",
   "metadata": {
    "execution": {
     "iopub.execute_input": "2023-08-28T13:46:04.639773Z",
     "iopub.status.busy": "2023-08-28T13:46:04.639350Z",
     "iopub.status.idle": "2023-08-28T13:46:04.779340Z",
     "shell.execute_reply": "2023-08-28T13:46:04.778181Z"
    },
    "papermill": {
     "duration": 0.519959,
     "end_time": "2023-08-28T13:46:04.781953",
     "exception": false,
     "start_time": "2023-08-28T13:46:04.261994",
     "status": "completed"
    },
    "tags": []
   },
   "source": [
    "# Calculate the sum of magnitudo for  date\n",
    "Nevada_data = filtered_Nevada.groupby('time')['magnitudo'].sum().reset_index()\n",
    "\n",
    "# Create a line plot using Plotly Express\n",
    "# x-axis: International Student, y-axis:  date ,\n",
    "# labels for the x-axis, title, and customized height\n",
    "fig_Nevada_data = px.line(\n",
    "    Nevada_data,  # DataFrame containing the data\n",
    "    x='time',   # x-values: time\n",
    "    y='magnitudo',  # y-values :magnitudo\n",
    "    title='time by magnitudo',  # Set the title of the plot\n",
    "    height=800  # Set the height of the plot\n",
    ")\n",
    "\n",
    "# Display the plot\n",
    "fig_Nevada_data.show()"
   ],
   "outputs": [],
   "execution_count": null
  },
  {
   "cell_type": "code",
   "id": "0e27a283",
   "metadata": {
    "execution": {
     "iopub.execute_input": "2023-08-28T13:46:05.475220Z",
     "iopub.status.busy": "2023-08-28T13:46:05.473987Z",
     "iopub.status.idle": "2023-08-28T13:46:05.482880Z",
     "shell.execute_reply": "2023-08-28T13:46:05.482008Z"
    },
    "papermill": {
     "duration": 0.359362,
     "end_time": "2023-08-28T13:46:05.485168",
     "exception": false,
     "start_time": "2023-08-28T13:46:05.125806",
     "status": "completed"
    },
    "tags": []
   },
   "source": [
    "def transform_date(df):\n",
    "    df = df.copy()\n",
    "    df[\"hour\"] = df.date.dt.hour\n",
    "    df[\"day_of_month\"] = df.date.dt.day\n",
    "    df[\"weekday\"] = df.date.dt.day_name()\n",
    "    df[\"month\"] = df.date.dt.month\n",
    "    df[\"month_name\"] = df.date.dt.month_name()\n",
    "    df[\"year\"] =df.date.dt.year\n",
    "    return df"
   ],
   "outputs": [],
   "execution_count": null
  },
  {
   "cell_type": "code",
   "id": "b56934e8",
   "metadata": {
    "execution": {
     "iopub.execute_input": "2023-08-28T13:46:06.182407Z",
     "iopub.status.busy": "2023-08-28T13:46:06.181208Z",
     "iopub.status.idle": "2023-08-28T13:46:10.990431Z",
     "shell.execute_reply": "2023-08-28T13:46:10.989150Z"
    },
    "papermill": {
     "duration": 5.16183,
     "end_time": "2023-08-28T13:46:10.993230",
     "exception": false,
     "start_time": "2023-08-28T13:46:05.831400",
     "status": "completed"
    },
    "tags": []
   },
   "source": [
    "df = transform_date(df)"
   ],
   "outputs": [],
   "execution_count": null
  },
  {
   "cell_type": "code",
   "id": "bdd6e815",
   "metadata": {
    "execution": {
     "iopub.execute_input": "2023-08-28T13:46:11.684657Z",
     "iopub.status.busy": "2023-08-28T13:46:11.683467Z",
     "iopub.status.idle": "2023-08-28T13:46:14.484911Z",
     "shell.execute_reply": "2023-08-28T13:46:14.483833Z"
    },
    "papermill": {
     "duration": 3.1414,
     "end_time": "2023-08-28T13:46:14.487916",
     "exception": false,
     "start_time": "2023-08-28T13:46:11.346516",
     "status": "completed"
    },
    "tags": []
   },
   "source": [
    "plt.figure(figsize=(16,7))\n",
    "sns.boxenplot(df,x=\"year\", y=\"magnitudo\",linewidth=1 )\n",
    "plt.xticks(rotation=90)\n",
    "plt.title(\"Eartquakes magnitudo distribution by Year\")\n",
    "plt.show()"
   ],
   "outputs": [],
   "execution_count": null
  },
  {
   "cell_type": "code",
   "id": "9513bcf2",
   "metadata": {
    "execution": {
     "iopub.execute_input": "2023-08-28T13:46:15.196486Z",
     "iopub.status.busy": "2023-08-28T13:46:15.195677Z",
     "iopub.status.idle": "2023-08-28T13:46:15.357482Z",
     "shell.execute_reply": "2023-08-28T13:46:15.356265Z"
    },
    "papermill": {
     "duration": 0.519078,
     "end_time": "2023-08-28T13:46:15.360214",
     "exception": false,
     "start_time": "2023-08-28T13:46:14.841136",
     "status": "completed"
    },
    "tags": []
   },
   "source": [
    "# Calculate the magnitudo by month\n",
    "magnitudo_by_year = df.groupby('year')['magnitudo'].mean().reset_index()\n",
    "\n",
    "# Create a bar plot using Plotly Express\n",
    "fig = px.bar(magnitudo_by_year, x='year', y='magnitudo',\n",
    "             title='magnitudo by year',\n",
    "             labels={'year': 'Year'},\n",
    "             template='plotly_white')\n",
    "\n",
    "# Display the plot\n",
    "fig.show()"
   ],
   "outputs": [],
   "execution_count": null
  },
  {
   "cell_type": "code",
   "id": "e992ff23",
   "metadata": {
    "execution": {
     "iopub.execute_input": "2023-08-28T13:46:16.045793Z",
     "iopub.status.busy": "2023-08-28T13:46:16.044912Z",
     "iopub.status.idle": "2023-08-28T13:46:16.179655Z",
     "shell.execute_reply": "2023-08-28T13:46:16.178371Z"
    },
    "papermill": {
     "duration": 0.478778,
     "end_time": "2023-08-28T13:46:16.182196",
     "exception": false,
     "start_time": "2023-08-28T13:46:15.703418",
     "status": "completed"
    },
    "tags": []
   },
   "source": [
    "# Calculate the average magnitude by year\n",
    "magnitude_by_year = df.groupby('year')['magnitudo'].mean().reset_index()\n",
    "\n",
    "# Create a line plot using Plotly Express\n",
    "fig = px.line(magnitude_by_year, x='year', y='magnitudo',\n",
    "              title='Average Magnitude of Earthquakes by Year',\n",
    "              labels={'year': 'Year', 'magnitudo': 'Average Magnitude'},\n",
    "              template='plotly_white')\n",
    "\n",
    "# Display the plot\n",
    "fig.show()"
   ],
   "outputs": [],
   "execution_count": null
  },
  {
   "cell_type": "code",
   "id": "17e59390",
   "metadata": {
    "execution": {
     "iopub.execute_input": "2023-08-28T13:46:16.907053Z",
     "iopub.status.busy": "2023-08-28T13:46:16.906202Z",
     "iopub.status.idle": "2023-08-28T13:46:17.043085Z",
     "shell.execute_reply": "2023-08-28T13:46:17.041826Z"
    },
    "papermill": {
     "duration": 0.495766,
     "end_time": "2023-08-28T13:46:17.045957",
     "exception": false,
     "start_time": "2023-08-28T13:46:16.550191",
     "status": "completed"
    },
    "tags": []
   },
   "source": [
    "# Calculate the average magnitude by month\n",
    "magnitude_by_month = df.groupby('month')['magnitudo'].mean().reset_index()\n",
    "\n",
    "# Create a line plot using Plotly Express\n",
    "fig = px.line(magnitude_by_month, x='month', y='magnitudo',\n",
    "              title='Average Magnitude of Earthquakes by month',\n",
    "              labels={'month': 'Month', 'magnitudo': 'Average Magnitude'},\n",
    "              template='plotly_white')\n",
    "\n",
    "# Display the plot\n",
    "fig.show()"
   ],
   "outputs": [],
   "execution_count": null
  },
  {
   "cell_type": "code",
   "id": "08858d5c",
   "metadata": {
    "execution": {
     "iopub.execute_input": "2023-08-28T13:46:17.737109Z",
     "iopub.status.busy": "2023-08-28T13:46:17.736442Z",
     "iopub.status.idle": "2023-08-28T13:46:18.150741Z",
     "shell.execute_reply": "2023-08-28T13:46:18.149593Z"
    },
    "papermill": {
     "duration": 0.760748,
     "end_time": "2023-08-28T13:46:18.153390",
     "exception": false,
     "start_time": "2023-08-28T13:46:17.392642",
     "status": "completed"
    },
    "tags": []
   },
   "source": [
    "# Calculate the average magnitude by month\n",
    "magnitude_by_month_name = df.groupby('month_name')['magnitudo'].mean().reset_index()\n",
    "\n",
    "# Create a line plot using Plotly Express\n",
    "fig = px.line(magnitude_by_month_name, x='month_name', y='magnitudo',\n",
    "              title='Average Magnitude of Earthquakes by month',\n",
    "              labels={'month_name': 'Month_name', 'magnitudo': 'Average Magnitude'},\n",
    "              template='plotly_white')\n",
    "\n",
    "# Display the plot\n",
    "fig.show()"
   ],
   "outputs": [],
   "execution_count": null
  },
  {
   "cell_type": "code",
   "id": "9409f1f0",
   "metadata": {
    "execution": {
     "iopub.execute_input": "2023-08-28T13:46:18.847306Z",
     "iopub.status.busy": "2023-08-28T13:46:18.845648Z",
     "iopub.status.idle": "2023-08-28T13:46:18.985281Z",
     "shell.execute_reply": "2023-08-28T13:46:18.984135Z"
    },
    "papermill": {
     "duration": 0.48767,
     "end_time": "2023-08-28T13:46:18.987899",
     "exception": false,
     "start_time": "2023-08-28T13:46:18.500229",
     "status": "completed"
    },
    "tags": []
   },
   "source": [
    "# Calculate the average magnitude by day_of_month\n",
    "magnitude_by_day_of_month = df.groupby('day_of_month')['magnitudo'].mean().reset_index()\n",
    "\n",
    "# Create a line plot using Plotly Express\n",
    "fig = px.line(magnitude_by_day_of_month, x='day_of_month', y='magnitudo',\n",
    "              title='Average Magnitude of Earthquakes by month',\n",
    "              labels={'month_name': 'Month_name', 'magnitudo': 'Average Magnitude'},\n",
    "              template='plotly_white')\n",
    "\n",
    "# Display the plot\n",
    "fig.show()"
   ],
   "outputs": [],
   "execution_count": null
  },
  {
   "cell_type": "markdown",
   "id": "ddf42ddb",
   "metadata": {
    "papermill": {
     "duration": 0.342259,
     "end_time": "2023-08-28T13:46:19.678629",
     "exception": false,
     "start_time": "2023-08-28T13:46:19.336370",
     "status": "completed"
    },
    "tags": []
   },
   "source": [
    "# <div style=\"text-align: center; background-color: #6495ED; font-family:Times New Roman; color: white; padding: 14px; line-height: 1;border-radius:20px\">7. Data visualisation</div>"
   ]
  },
  {
   "cell_type": "code",
   "id": "fe818699",
   "metadata": {
    "execution": {
     "iopub.execute_input": "2023-08-28T13:46:20.379564Z",
     "iopub.status.busy": "2023-08-28T13:46:20.378474Z",
     "iopub.status.idle": "2023-08-28T13:46:22.026175Z",
     "shell.execute_reply": "2023-08-28T13:46:22.025162Z"
    },
    "papermill": {
     "duration": 2.005896,
     "end_time": "2023-08-28T13:46:22.029164",
     "exception": false,
     "start_time": "2023-08-28T13:46:20.023268",
     "status": "completed"
    },
    "tags": []
   },
   "source": [
    "# Import the ProfileReport class from the ydata_profiling library\n",
    "from ydata_profiling import ProfileReport\n",
    "\n",
    "# Create a comprehensive profile report for the DataFrame 'df'\n",
    "# This report will contain various statistics, insights, and visualizations about the data\n",
    "profile = ProfileReport(df)"
   ],
   "outputs": [],
   "execution_count": null
  },
  {
   "cell_type": "code",
   "id": "2de18987",
   "metadata": {
    "execution": {
     "iopub.execute_input": "2023-08-28T13:46:22.742909Z",
     "iopub.status.busy": "2023-08-28T13:46:22.742443Z",
     "iopub.status.idle": "2023-08-28T13:52:11.846558Z",
     "shell.execute_reply": "2023-08-28T13:52:11.845412Z"
    },
    "papermill": {
     "duration": 349.628004,
     "end_time": "2023-08-28T13:52:12.019983",
     "exception": false,
     "start_time": "2023-08-28T13:46:22.391979",
     "status": "completed"
    },
    "tags": []
   },
   "source": [
    "profile                     # or this one\n",
    "#profile.to_notebook_iframe() # use this line to show the output"
   ],
   "outputs": [],
   "execution_count": null
  },
  {
   "cell_type": "code",
   "id": "09ffc375",
   "metadata": {
    "execution": {
     "iopub.execute_input": "2023-08-28T13:52:13.379170Z",
     "iopub.status.busy": "2023-08-28T13:52:13.378270Z",
     "iopub.status.idle": "2023-08-28T13:52:15.002057Z",
     "shell.execute_reply": "2023-08-28T13:52:15.000876Z"
    },
    "papermill": {
     "duration": 2.2057,
     "end_time": "2023-08-28T13:52:15.004897",
     "exception": false,
     "start_time": "2023-08-28T13:52:12.799197",
     "status": "completed"
    },
    "tags": []
   },
   "source": [
    "# Calculate the value counts for each unique value in the 'place' column\n",
    "top10_place = df['place'].value_counts()[:10]\n",
    "\n",
    "# Create a bar plot using Plotly Express\n",
    "# y-axis: Count of each place, x-axis: place,\n",
    "# color-coded by job titles and using a color palette\n",
    "fig = px.bar(\n",
    "    y=top10_place.values,  # y-values: count of each place\n",
    "    x=top10_place.index,   # x-values: job titles\n",
    "    color=top10_place.index,  # Color the bars based on place\n",
    "    color_discrete_sequence=px.colors.sequential.PuBuGn,  # Set color palette\n",
    "    text=top10_place.values,  # Display the count values on top of the bars\n",
    "    title='Top 10 place',  # Set the title of the plot\n",
    "    template='plotly_white'  # Use a white template for the plot\n",
    ")\n",
    "\n",
    "# Update the layout of the plot\n",
    "fig.update_layout(\n",
    "    title_text='place Distribution',  # Set the title of the plot\n",
    "    height=700,  # Set the height of the plot\n",
    "    xaxis_title=\"place\",  # Label for the x-axis\n",
    "    yaxis_title=\"Count\",  # Label for the y-axis\n",
    "    font=dict(size=17, family=\"Franklin Gothic\")  # Set the font size and family for the text\n",
    ")\n",
    "\n",
    "# Display the plot"
   ],
   "outputs": [],
   "execution_count": null
  },
  {
   "cell_type": "code",
   "id": "7521991f",
   "metadata": {
    "execution": {
     "iopub.execute_input": "2023-08-28T13:52:16.142726Z",
     "iopub.status.busy": "2023-08-28T13:52:16.142236Z",
     "iopub.status.idle": "2023-08-28T13:52:16.936075Z",
     "shell.execute_reply": "2023-08-28T13:52:16.934874Z"
    },
    "papermill": {
     "duration": 1.35691,
     "end_time": "2023-08-28T13:52:16.938382",
     "exception": false,
     "start_time": "2023-08-28T13:52:15.581472",
     "status": "completed"
    },
    "tags": []
   },
   "source": [
    "# Calculate the value counts for each unique value in the 'data_type' column\n",
    "top10_data_type = df['data_type'].value_counts()[:10]\n",
    "\n",
    "# Create a bar plot using Plotly Express\n",
    "# y-axis: Count of each data type, x-axis: Data types,\n",
    "# color-coded by data types and using a color palette\n",
    "fig = px.bar(\n",
    "    y=top10_data_type.values,  # y-values: count of each data type\n",
    "    x=top10_data_type.index,   # x-values: data types\n",
    "    color=top10_data_type.index,  # Color the bars based on data types\n",
    "    color_discrete_sequence=px.colors.sequential.PuBuGn,  # Set color palette\n",
    "    text=top10_data_type.values,  # Display the count values on top of the bars\n",
    "    title='Top 10 Data Types',  # Set the title of the plot\n",
    "    template='plotly_white'  # Use a white template for the plot\n",
    ")\n",
    "\n",
    "# Update the layout of the plot\n",
    "fig.update_layout(\n",
    "    title_text='Data Type Distribution',  # Set the title of the plot\n",
    "    height=700,  # Set the height of the plot\n",
    "    xaxis_title=\"Data Type\",  # Label for the x-axis\n",
    "    yaxis_title=\"Count\",  # Label for the y-axis\n",
    "    font=dict(size=17, family=\"Franklin Gothic\")  # Set the font size and family for the text\n",
    ")\n",
    "\n",
    "# Display the plot\n",
    "fig.show()"
   ],
   "outputs": [],
   "execution_count": null
  },
  {
   "cell_type": "code",
   "id": "abdfd61b",
   "metadata": {
    "execution": {
     "iopub.execute_input": "2023-08-28T13:52:18.087846Z",
     "iopub.status.busy": "2023-08-28T13:52:18.086993Z",
     "iopub.status.idle": "2023-08-28T13:52:18.804690Z",
     "shell.execute_reply": "2023-08-28T13:52:18.803608Z"
    },
    "papermill": {
     "duration": 1.274669,
     "end_time": "2023-08-28T13:52:18.807815",
     "exception": false,
     "start_time": "2023-08-28T13:52:17.533146",
     "status": "completed"
    },
    "tags": []
   },
   "source": [
    "# Calculate the value counts for each unique value in the 'status' column\n",
    "top10_status = df['status'].value_counts()[:6]\n",
    "\n",
    "# Create a bar plot using Plotly Express\n",
    "# y-axis: Count of each status, x-axis: Statuses,\n",
    "# color-coded by statuses and using a color palette\n",
    "fig = px.bar(\n",
    "    y=top10_status.values,  # y-values: count of each status\n",
    "    x=top10_status.index,   # x-values: statuses\n",
    "    color=top10_status.index,  # Color the bars based on statuses\n",
    "    color_discrete_sequence=px.colors.sequential.PuBuGn,  # Set color palette\n",
    "    text=top10_status.values,  # Display the count values on top of the bars\n",
    "    title='Top 10 Statuses',  # Set the title of the plot\n",
    "    template='plotly_white'  # Use a white template for the plot\n",
    ")\n",
    "\n",
    "# Update the layout of the plot\n",
    "fig.update_layout(\n",
    "    title_text='Status Distribution',  # Set the title of the plot\n",
    "    height=700,  # Set the height of the plot\n",
    "    xaxis_title=\"Status\",  # Label for the x-axis\n",
    "    yaxis_title=\"Count\",  # Label for the y-axis\n",
    "    font=dict(size=17, family=\"Franklin Gothic\")  # Set the font size and family for the text\n",
    ")\n",
    "\n",
    "# Display the plot\n",
    "fig.show()"
   ],
   "outputs": [],
   "execution_count": null
  },
  {
   "cell_type": "code",
   "id": "c87c1975",
   "metadata": {
    "execution": {
     "iopub.execute_input": "2023-08-28T13:52:19.896055Z",
     "iopub.status.busy": "2023-08-28T13:52:19.895203Z",
     "iopub.status.idle": "2023-08-28T13:52:20.619845Z",
     "shell.execute_reply": "2023-08-28T13:52:20.618449Z"
    },
    "papermill": {
     "duration": 1.267544,
     "end_time": "2023-08-28T13:52:20.622467",
     "exception": false,
     "start_time": "2023-08-28T13:52:19.354923",
     "status": "completed"
    },
    "tags": []
   },
   "source": [
    "# Calculate the value counts for each unique value in the 'state' column\n",
    "top10_states = df['state'].value_counts()[:10]\n",
    "\n",
    "# Create a bar plot using Plotly Express\n",
    "# y-axis: Count of each state, x-axis: States,\n",
    "# color-coded by states and using a color palette\n",
    "fig = px.bar(\n",
    "    y=top10_states.values,  # y-values: count of each state\n",
    "    x=top10_states.index,   # x-values: states\n",
    "    color=top10_states.index,  # Color the bars based on states\n",
    "    color_discrete_sequence=px.colors.sequential.PuBuGn,  # Set color palette\n",
    "    text=top10_states.values,  # Display the count values on top of the bars\n",
    "    title='Top 10 States with Highest Occurrences',  # Set the title of the plot\n",
    "    template='plotly_white'  # Use a white template for the plot\n",
    ")\n",
    "\n",
    "# Update the layout of the plot\n",
    "fig.update_layout(\n",
    "    title_text='Distribution of Earthquake Occurrences by State',  # Set the title of the plot\n",
    "    height=700,  # Set the height of the plot\n",
    "    xaxis_title=\"State\",  # Label for the x-axis\n",
    "    yaxis_title=\"Count\",  # Label for the y-axis\n",
    "    font=dict(size=17, family=\"Franklin Gothic\")  # Set the font size and family for the text\n",
    ")\n",
    "\n",
    "# Display the plot\n",
    "fig.show()"
   ],
   "outputs": [],
   "execution_count": null
  },
  {
   "cell_type": "code",
   "id": "e7426770",
   "metadata": {
    "execution": {
     "iopub.execute_input": "2023-08-28T13:52:21.785595Z",
     "iopub.status.busy": "2023-08-28T13:52:21.784753Z",
     "iopub.status.idle": "2023-08-28T13:52:21.954959Z",
     "shell.execute_reply": "2023-08-28T13:52:21.953641Z"
    },
    "papermill": {
     "duration": 0.747469,
     "end_time": "2023-08-28T13:52:21.957818",
     "exception": false,
     "start_time": "2023-08-28T13:52:21.210349",
     "status": "completed"
    },
    "tags": []
   },
   "source": [
    "# Calculate the value counts for each unique value in the 'year' column\n",
    "year_counts = df['year'].value_counts()\n",
    "\n",
    "# Sort the years in ascending order\n",
    "sorted_years = year_counts.sort_index()\n",
    "\n",
    "# Create a bar plot using Plotly Express\n",
    "fig = px.bar(\n",
    "    x=sorted_years.index,   # x-values: years\n",
    "    y=sorted_years.values,  # y-values: count of occurrences\n",
    "    color=sorted_years.index,  # Color the bars based on years\n",
    "    color_discrete_sequence=px.colors.sequential.PuBuGn,  # Set color palette\n",
    "    text=sorted_years.values,  # Display the count values on top of the bars\n",
    "    title='Earthquake Occurrences by Year',  # Set the title of the plot\n",
    "    template='plotly_dark'  # Use a dark template for the plot\n",
    ")\n",
    "\n",
    "# Update the layout of the plot\n",
    "fig.update_layout(\n",
    "    title_text='Distribution of Earthquake Occurrences by Year',  # Set the title of the plot\n",
    "    height=700,  # Set the height of the plot\n",
    "    xaxis_title=\"Year\",  # Label for the x-axis\n",
    "    yaxis_title=\"Count\",  # Label for the y-axis\n",
    "    font=dict(size=17, family=\"Franklin Gothic\")  # Set the font size and family for the text\n",
    ")\n",
    "\n",
    "# Display the plot\n",
    "fig.show()"
   ],
   "outputs": [],
   "execution_count": null
  },
  {
   "cell_type": "code",
   "id": "0d8527c5",
   "metadata": {
    "execution": {
     "iopub.execute_input": "2023-08-28T13:52:23.090569Z",
     "iopub.status.busy": "2023-08-28T13:52:23.089373Z",
     "iopub.status.idle": "2023-08-28T13:52:23.837207Z",
     "shell.execute_reply": "2023-08-28T13:52:23.836071Z"
    },
    "papermill": {
     "duration": 1.329893,
     "end_time": "2023-08-28T13:52:23.839707",
     "exception": false,
     "start_time": "2023-08-28T13:52:22.509814",
     "status": "completed"
    },
    "tags": []
   },
   "source": [
    "\n",
    "# Calculate the value counts for each unique value in the 'month_name' column\n",
    "month_counts = df['month_name'].value_counts()\n",
    "\n",
    "# Create a bar plot using Plotly Express\n",
    "fig = px.bar(\n",
    "    x=month_counts.index,   # x-values: month names\n",
    "    y=month_counts.values,  # y-values: count of occurrences\n",
    "    color=month_counts.index,  # Color the bars based on month names\n",
    "    color_discrete_sequence=px.colors.sequential.PuBuGn,  # Set color palette\n",
    "    text=month_counts.values,  # Display the count values on top of the bars\n",
    "    title='Earthquake Occurrences by Month',  # Set the title of the plot\n",
    "    template='plotly_dark'  # Use a dark template for the plot\n",
    ")\n",
    "\n",
    "# Update the layout of the plot\n",
    "fig.update_layout(\n",
    "    title_text='Distribution of Earthquake Occurrences by Month',  # Set the title of the plot\n",
    "    height=700,  # Set the height of the plot\n",
    "    xaxis_title=\"Month\",  # Label for the x-axis\n",
    "    yaxis_title=\"Count\",  # Label for the y-axis\n",
    "    font=dict(size=17, family=\"Franklin Gothic\")  # Set the font size and family for the text\n",
    ")\n",
    "\n",
    "# Display the plot\n",
    "fig.show()"
   ],
   "outputs": [],
   "execution_count": null
  },
  {
   "cell_type": "code",
   "id": "676dc00f",
   "metadata": {
    "execution": {
     "iopub.execute_input": "2023-08-28T13:52:24.988655Z",
     "iopub.status.busy": "2023-08-28T13:52:24.988240Z",
     "iopub.status.idle": "2023-08-28T13:52:25.632233Z",
     "shell.execute_reply": "2023-08-28T13:52:25.631270Z"
    },
    "papermill": {
     "duration": 1.19866,
     "end_time": "2023-08-28T13:52:25.634730",
     "exception": false,
     "start_time": "2023-08-28T13:52:24.436070",
     "status": "completed"
    },
    "tags": []
   },
   "source": [
    "# Select the top 10 magnitudes in the DataFrame\n",
    "top10_magnitudes = df['magnitudo'].sort_values(ascending=False).head(10)\n",
    "\n",
    "# Create a bar plot using Plotly Express\n",
    "# y-axis: Magnitude values, x-axis: Index of the top 10 magnitudes,\n",
    "# color-coded by the index, and using a color palette\n",
    "fig = px.bar(\n",
    "    y=top10_magnitudes.values,  # y-values: top 10 magnitudes\n",
    "    x=top10_magnitudes.index,   # x-values: indices of the top 10 magnitudes\n",
    "    color=top10_magnitudes.index,  # Color the bars based on the indices\n",
    "    color_discrete_sequence=px.colors.sequential.PuBuGn,  # Set color palette\n",
    "    text=top10_magnitudes.values,  # Display the magnitude values on top of the bars\n",
    "    title='Top 10 Magnitudes',  # Set the title of the plot\n",
    "    template='plotly_dark'  # Use a dark template for the plot\n",
    ")\n",
    "\n",
    "# Update the layout of the plot\n",
    "fig.update_layout(\n",
    "    title_text='Magnitude Distribution',  # Set the title of the plot\n",
    "    height=700,  # Set the height of the plot\n",
    "    xaxis_title=\"Index\",  # Label for the x-axis\n",
    "    yaxis_title=\"Magnitude\",  # Label for the y-axis\n",
    "    font=dict(size=17, family=\"Franklin Gothic\")  # Set the font size and family for the text\n",
    ")\n",
    "\n",
    "# Display the plot\n",
    "fig.show()\n"
   ],
   "outputs": [],
   "execution_count": null
  },
  {
   "cell_type": "code",
   "id": "4c3ead8b",
   "metadata": {
    "execution": {
     "iopub.execute_input": "2023-08-28T13:52:26.826251Z",
     "iopub.status.busy": "2023-08-28T13:52:26.825581Z",
     "iopub.status.idle": "2023-08-28T13:52:29.772686Z",
     "shell.execute_reply": "2023-08-28T13:52:29.771576Z"
    },
    "papermill": {
     "duration": 3.551755,
     "end_time": "2023-08-28T13:52:29.775506",
     "exception": false,
     "start_time": "2023-08-28T13:52:26.223751",
     "status": "completed"
    },
    "tags": []
   },
   "source": [
    "# Calculate the average magnitudo for each place and sort in descending order\n",
    "average_magnitudo = df.groupby('place')['magnitudo'].mean().reset_index()\n",
    "average_magnitudo = average_magnitudo.sort_values(by='magnitudo', ascending=False)\n",
    "\n",
    "# Select the top 20 places with the highest average magnitudo\n",
    "top_10_magnitudo = average_magnitudo.head(20)\n",
    "\n",
    "# Create a new figure using Plotly\n",
    "fig = go.Figure()\n",
    "\n",
    "# Add a bar trace to the figure\n",
    "fig.add_trace(go.Bar(\n",
    "    x=top_10_magnitudo['place'],  # x-values: place\n",
    "    y=top_10_magnitudo['magnitudo'],  # y-values: average magnitudo\n",
    "    marker_color='#6495ED'  # Set the color of the bars\n",
    "))\n",
    "\n",
    "# Update the layout and appearance of the plot\n",
    "fig.update_layout(\n",
    "    title='Top 20 Places by Average Magnitude',  # Set the title of the plot\n",
    "    xaxis_title='Place',  # Label for the x-axis\n",
    "    yaxis_title='Average Magnitude',  # Label for the y-axis\n",
    "    template='plotly_white',  # Use a white template for the plot\n",
    "    font=dict(color='black'),  # Set font color to black\n",
    "    height=800  # Set the height of the plot\n",
    ")\n",
    "\n",
    "# Initialize Plotly for notebook integration\n",
    "pyo.init_notebook_mode(connected=True)\n",
    "\n",
    "# Display the plot\n",
    "pyo.iplot(fig)\n"
   ],
   "outputs": [],
   "execution_count": null
  },
  {
   "cell_type": "code",
   "id": "c0d9bd20",
   "metadata": {
    "execution": {
     "iopub.execute_input": "2023-08-28T13:52:30.972510Z",
     "iopub.status.busy": "2023-08-28T13:52:30.971409Z",
     "iopub.status.idle": "2023-08-28T13:52:31.480194Z",
     "shell.execute_reply": "2023-08-28T13:52:31.479301Z"
    },
    "papermill": {
     "duration": 1.105709,
     "end_time": "2023-08-28T13:52:31.482673",
     "exception": false,
     "start_time": "2023-08-28T13:52:30.376964",
     "status": "completed"
    },
    "tags": []
   },
   "source": [
    "# Calculate the average magnitude for each state and sort in descending order\n",
    "average_magnitudo = df.groupby('state')['magnitudo'].mean().reset_index()\n",
    "average_magnitudo = average_magnitudo.sort_values(by='magnitudo', ascending=False)\n",
    "\n",
    "# Select the top 20 states with the highest average magnitude\n",
    "top_20_magnitudo = average_magnitudo.head(20)\n",
    "\n",
    "# Create a new figure using Plotly\n",
    "fig = go.Figure()\n",
    "\n",
    "# Add a bar trace to the figure\n",
    "fig.add_trace(go.Bar(\n",
    "    x=top_20_magnitudo['state'],  # x-values: state\n",
    "    y=top_20_magnitudo['magnitudo'],  # y-values: average magnitudo\n",
    "    marker_color='#6495ED'  # Set the color of the bars\n",
    "))\n",
    "\n",
    "# Update the layout and appearance of the plot\n",
    "fig.update_layout(\n",
    "    title='Top 20 States by Average Magnitude',  # Set the title of the plot\n",
    "    xaxis_title='State',  # Label for the x-axis\n",
    "    yaxis_title='Average Magnitude',  # Label for the y-axis\n",
    "    template='plotly_white',  # Use a white template for the plot\n",
    "    font=dict(color='black'),  # Set font color to black\n",
    "    height=800  # Set the height of the plot\n",
    ")\n",
    "\n",
    "# Initialize Plotly for notebook integration\n",
    "pyo.init_notebook_mode(connected=True)\n",
    "\n",
    "# Display the plot\n",
    "pyo.iplot(fig)\n"
   ],
   "outputs": [],
   "execution_count": null
  },
  {
   "cell_type": "code",
   "id": "5822a992",
   "metadata": {
    "execution": {
     "iopub.execute_input": "2023-08-28T13:52:32.643508Z",
     "iopub.status.busy": "2023-08-28T13:52:32.642147Z",
     "iopub.status.idle": "2023-08-28T13:52:35.602318Z",
     "shell.execute_reply": "2023-08-28T13:52:35.600966Z"
    },
    "papermill": {
     "duration": 3.563906,
     "end_time": "2023-08-28T13:52:35.610903",
     "exception": false,
     "start_time": "2023-08-28T13:52:32.046997",
     "status": "completed"
    },
    "tags": []
   },
   "source": [
    "def plot_strongest(df):\n",
    "    gb_top = df.groupby([\"state\"])\\\n",
    "               .agg({\"significance\":\"max\", \"magnitudo\":\"max\"})\\\n",
    "               .reset_index()\n",
    "\n",
    "    b = df[[\"year\", \"state\",\"significance\",\"longitude\", \"latitude\",\"magnitudo\"]]\n",
    "    merge = pd.merge(gb_top, b, how = \"left\", on =[\"state\",\"significance\", \"magnitudo\"]).sort_values(by=\"year\")\n",
    "\n",
    "\n",
    "    fig = px.scatter_geo(merge, \n",
    "                         lat=\"latitude\", lon=\"longitude\", \n",
    "                         size=\"significance\",\n",
    "                         animation_frame=\"year\",\n",
    "                         projection=\"natural earth\",\n",
    "                         title = \"Strongest eartquake by year\" ,\n",
    "                         template='plotly_dark'  # Use a dark template for the plot\n",
    ")\n",
    "    fig.show()\n",
    "    \n",
    "plot_strongest(df)"
   ],
   "outputs": [],
   "execution_count": null
  },
  {
   "cell_type": "code",
   "id": "d2a92439",
   "metadata": {
    "execution": {
     "iopub.execute_input": "2023-08-28T13:52:36.880928Z",
     "iopub.status.busy": "2023-08-28T13:52:36.880087Z",
     "iopub.status.idle": "2023-08-28T13:52:36.889071Z",
     "shell.execute_reply": "2023-08-28T13:52:36.888084Z"
    },
    "papermill": {
     "duration": 0.664061,
     "end_time": "2023-08-28T13:52:36.891580",
     "exception": false,
     "start_time": "2023-08-28T13:52:36.227519",
     "status": "completed"
    },
    "tags": []
   },
   "source": [
    "def Freq_df(cleanwordlist):\n",
    "    Freq_dist_nltk = nltk.FreqDist(cleanwordlist)\n",
    "    df_freq = pd.DataFrame.from_dict(Freq_dist_nltk, orient='index')\n",
    "    df_freq.columns = ['Frequency']\n",
    "    df_freq.index.name = 'Term'\n",
    "    df_freq = df_freq.sort_values(by=['Frequency'],ascending=False)\n",
    "    df_freq = df_freq.reset_index()\n",
    "    return df_freq\n",
    "\n",
    "def Word_Cloud(data, color_background, colormap, title):\n",
    "    plt.figure(figsize = (20,15))\n",
    "    wc = WordCloud(width=1200, \n",
    "               height=600, \n",
    "               max_words=50,\n",
    "               colormap= colormap,\n",
    "               max_font_size = 100,\n",
    "               random_state=88, \n",
    "               background_color=color_background).generate_from_frequencies(data)\n",
    "    plt.imshow(wc, interpolation='bilinear')\n",
    "    plt.title(title, fontsize=20)\n",
    "    plt.axis('off')\n",
    "    plt.show()"
   ],
   "outputs": [],
   "execution_count": null
  },
  {
   "cell_type": "code",
   "id": "0fc4b2af",
   "metadata": {
    "execution": {
     "iopub.execute_input": "2023-08-28T13:52:38.081841Z",
     "iopub.status.busy": "2023-08-28T13:52:38.081145Z",
     "iopub.status.idle": "2023-08-28T13:52:41.910166Z",
     "shell.execute_reply": "2023-08-28T13:52:41.908974Z"
    },
    "papermill": {
     "duration": 4.43055,
     "end_time": "2023-08-28T13:52:41.914707",
     "exception": false,
     "start_time": "2023-08-28T13:52:37.484157",
     "status": "completed"
    },
    "tags": []
   },
   "source": [
    "freq_df = Freq_df(df['state'].values.tolist())\n",
    "data = dict(zip(freq_df['Term'].tolist(), freq_df['Frequency'].tolist()))\n",
    "data = freq_df.set_index('Term').to_dict()['Frequency']\n",
    "\n",
    "Word_Cloud(data ,'black','RdBu', 'WordCloud of state')"
   ],
   "outputs": [],
   "execution_count": null
  },
  {
   "cell_type": "markdown",
   "id": "29e067cd",
   "metadata": {
    "papermill": {
     "duration": 0.603649,
     "end_time": "2023-08-28T13:52:43.165719",
     "exception": false,
     "start_time": "2023-08-28T13:52:42.562070",
     "status": "completed"
    },
    "tags": []
   },
   "source": [
    "# <div style=\"text-align: center; background-color: #6495ED; font-family:Times New Roman; color: white; padding: 14px; line-height: 1;border-radius:20px\">7. Categorical\n",
    "\n",
    "</div>"
   ]
  },
  {
   "cell_type": "code",
   "id": "19aebadd",
   "metadata": {
    "execution": {
     "iopub.execute_input": "2023-08-28T13:52:44.387059Z",
     "iopub.status.busy": "2023-08-28T13:52:44.385944Z",
     "iopub.status.idle": "2023-08-28T13:53:20.097004Z",
     "shell.execute_reply": "2023-08-28T13:53:20.095712Z"
    },
    "papermill": {
     "duration": 36.327139,
     "end_time": "2023-08-28T13:53:20.100517",
     "exception": false,
     "start_time": "2023-08-28T13:52:43.773378",
     "status": "completed"
    },
    "tags": []
   },
   "source": [
    "# Select columns with object (categorical) data types\n",
    "num_cols = df.select_dtypes(include='object').columns.tolist()\n",
    "\n",
    "# Initialize the LabelEncoder\n",
    "le = LabelEncoder()\n",
    "\n",
    "# Apply Label Encoding to the selected numerical columns\n",
    "for x in num_cols:  \n",
    "    df[x] = le.fit_transform(df[x])\n",
    "\n",
    "# Now, your categorical columns (excluding column 0) have been converted to numerical values"
   ],
   "outputs": [],
   "execution_count": null
  },
  {
   "cell_type": "code",
   "id": "1875842c",
   "metadata": {
    "execution": {
     "iopub.execute_input": "2023-08-28T13:53:21.304111Z",
     "iopub.status.busy": "2023-08-28T13:53:21.303320Z",
     "iopub.status.idle": "2023-08-28T13:53:26.638958Z",
     "shell.execute_reply": "2023-08-28T13:53:26.637666Z"
    },
    "papermill": {
     "duration": 5.939728,
     "end_time": "2023-08-28T13:53:26.644751",
     "exception": false,
     "start_time": "2023-08-28T13:53:20.705023",
     "status": "completed"
    },
    "tags": []
   },
   "source": [
    "Corr_Matrix = df.corr()\n",
    "\n",
    "# Set up the figure and plot the heatmap\n",
    "plt.figure(figsize=(25,25))\n",
    "sns.heatmap(Corr_Matrix, annot=True, cmap='coolwarm', center=0)\n",
    "plt.show()"
   ],
   "outputs": [],
   "execution_count": null
  },
  {
   "cell_type": "code",
   "id": "ddeb9916",
   "metadata": {
    "execution": {
     "iopub.execute_input": "2023-08-28T13:53:27.836993Z",
     "iopub.status.busy": "2023-08-28T13:53:27.836181Z",
     "iopub.status.idle": "2023-08-28T13:53:27.847207Z",
     "shell.execute_reply": "2023-08-28T13:53:27.846031Z"
    },
    "papermill": {
     "duration": 0.607026,
     "end_time": "2023-08-28T13:53:27.849488",
     "exception": false,
     "start_time": "2023-08-28T13:53:27.242462",
     "status": "completed"
    },
    "tags": []
   },
   "source": [
    "print('Top 5 Most Positively Correlated to the To Price')\n",
    "Corr_Matrix['magnitudo'].sort_values(ascending=False).head(5)"
   ],
   "outputs": [],
   "execution_count": null
  },
  {
   "cell_type": "code",
   "id": "b95175d8",
   "metadata": {
    "execution": {
     "iopub.execute_input": "2023-08-28T13:53:29.028176Z",
     "iopub.status.busy": "2023-08-28T13:53:29.027598Z",
     "iopub.status.idle": "2023-08-28T13:53:29.039115Z",
     "shell.execute_reply": "2023-08-28T13:53:29.037750Z"
    },
    "papermill": {
     "duration": 0.604415,
     "end_time": "2023-08-28T13:53:29.041572",
     "exception": false,
     "start_time": "2023-08-28T13:53:28.437157",
     "status": "completed"
    },
    "tags": []
   },
   "source": [
    "print('Top 5 Most Negatively Correlated to Price ')\n",
    "Corr_Matrix['magnitudo'].sort_values(ascending=True).head(5)"
   ],
   "outputs": [],
   "execution_count": null
  }
 ],
 "metadata": {
  "kernelspec": {
   "display_name": "Python 3",
   "language": "python",
   "name": "python3"
  },
  "language_info": {
   "codemirror_mode": {
    "name": "ipython",
    "version": 3
   },
   "file_extension": ".py",
   "mimetype": "text/x-python",
   "name": "python",
   "nbconvert_exporter": "python",
   "pygments_lexer": "ipython3",
   "version": "3.10.12"
  },
  "papermill": {
   "default_parameters": {},
   "duration": 585.482166,
   "end_time": "2023-08-28T13:53:32.350657",
   "environment_variables": {},
   "exception": null,
   "input_path": "__notebook__.ipynb",
   "output_path": "__notebook__.ipynb",
   "parameters": {},
   "start_time": "2023-08-28T13:43:46.868491",
   "version": "2.4.0"
  },
  "widgets": {
   "application/vnd.jupyter.widget-state+json": {
    "state": {
     "062d3840e00f4e1c858d5cfdc87fe9fc": {
      "model_module": "@jupyter-widgets/controls",
      "model_module_version": "1.5.0",
      "model_name": "HTMLModel",
      "state": {
       "_dom_classes": [],
       "_model_module": "@jupyter-widgets/controls",
       "_model_module_version": "1.5.0",
       "_model_name": "HTMLModel",
       "_view_count": null,
       "_view_module": "@jupyter-widgets/controls",
       "_view_module_version": "1.5.0",
       "_view_name": "HTMLView",
       "description": "",
       "description_tooltip": null,
       "layout": "IPY_MODEL_71baead4d90d4d6a873e0737e597fa79",
       "placeholder": "​",
       "style": "IPY_MODEL_eeae4eaad34942349928d462812cbfc9",
       "value": " 1/1 [00:19&lt;00:00, 19.56s/it]"
      }
     },
     "071d87541d2d4707be7307d3dbde41d7": {
      "model_module": "@jupyter-widgets/base",
      "model_module_version": "1.2.0",
      "model_name": "LayoutModel",
      "state": {
       "_model_module": "@jupyter-widgets/base",
       "_model_module_version": "1.2.0",
       "_model_name": "LayoutModel",
       "_view_count": null,
       "_view_module": "@jupyter-widgets/base",
       "_view_module_version": "1.2.0",
       "_view_name": "LayoutView",
       "align_content": null,
       "align_items": null,
       "align_self": null,
       "border": null,
       "bottom": null,
       "display": null,
       "flex": null,
       "flex_flow": null,
       "grid_area": null,
       "grid_auto_columns": null,
       "grid_auto_flow": null,
       "grid_auto_rows": null,
       "grid_column": null,
       "grid_gap": null,
       "grid_row": null,
       "grid_template_areas": null,
       "grid_template_columns": null,
       "grid_template_rows": null,
       "height": null,
       "justify_content": null,
       "justify_items": null,
       "left": null,
       "margin": null,
       "max_height": null,
       "max_width": null,
       "min_height": null,
       "min_width": null,
       "object_fit": null,
       "object_position": null,
       "order": null,
       "overflow": null,
       "overflow_x": null,
       "overflow_y": null,
       "padding": null,
       "right": null,
       "top": null,
       "visibility": null,
       "width": null
      }
     },
     "1198500d3c6e49d59b59aa9fbbda4282": {
      "model_module": "@jupyter-widgets/controls",
      "model_module_version": "1.5.0",
      "model_name": "HTMLModel",
      "state": {
       "_dom_classes": [],
       "_model_module": "@jupyter-widgets/controls",
       "_model_module_version": "1.5.0",
       "_model_name": "HTMLModel",
       "_view_count": null,
       "_view_module": "@jupyter-widgets/controls",
       "_view_module_version": "1.5.0",
       "_view_name": "HTMLView",
       "description": "",
       "description_tooltip": null,
       "layout": "IPY_MODEL_81cecb950f4f457d80ac0850ff668843",
       "placeholder": "​",
       "style": "IPY_MODEL_2a143689c9b743a0926e0aa1c6e1d469",
       "value": " 108/108 [05:24&lt;00:00,  7.02s/it, Completed]"
      }
     },
     "1c06a10af6124c15a9c3fc811c14a47d": {
      "model_module": "@jupyter-widgets/controls",
      "model_module_version": "1.5.0",
      "model_name": "DescriptionStyleModel",
      "state": {
       "_model_module": "@jupyter-widgets/controls",
       "_model_module_version": "1.5.0",
       "_model_name": "DescriptionStyleModel",
       "_view_count": null,
       "_view_module": "@jupyter-widgets/base",
       "_view_module_version": "1.2.0",
       "_view_name": "StyleView",
       "description_width": ""
      }
     },
     "24db86d72c5947ab8b2bb4366606d4f7": {
      "model_module": "@jupyter-widgets/base",
      "model_module_version": "1.2.0",
      "model_name": "LayoutModel",
      "state": {
       "_model_module": "@jupyter-widgets/base",
       "_model_module_version": "1.2.0",
       "_model_name": "LayoutModel",
       "_view_count": null,
       "_view_module": "@jupyter-widgets/base",
       "_view_module_version": "1.2.0",
       "_view_name": "LayoutView",
       "align_content": null,
       "align_items": null,
       "align_self": null,
       "border": null,
       "bottom": null,
       "display": null,
       "flex": null,
       "flex_flow": null,
       "grid_area": null,
       "grid_auto_columns": null,
       "grid_auto_flow": null,
       "grid_auto_rows": null,
       "grid_column": null,
       "grid_gap": null,
       "grid_row": null,
       "grid_template_areas": null,
       "grid_template_columns": null,
       "grid_template_rows": null,
       "height": null,
       "justify_content": null,
       "justify_items": null,
       "left": null,
       "margin": null,
       "max_height": null,
       "max_width": null,
       "min_height": null,
       "min_width": null,
       "object_fit": null,
       "object_position": null,
       "order": null,
       "overflow": null,
       "overflow_x": null,
       "overflow_y": null,
       "padding": null,
       "right": null,
       "top": null,
       "visibility": null,
       "width": null
      }
     },
     "2832320529c94d7daf6e9f9d7dccee7d": {
      "model_module": "@jupyter-widgets/base",
      "model_module_version": "1.2.0",
      "model_name": "LayoutModel",
      "state": {
       "_model_module": "@jupyter-widgets/base",
       "_model_module_version": "1.2.0",
       "_model_name": "LayoutModel",
       "_view_count": null,
       "_view_module": "@jupyter-widgets/base",
       "_view_module_version": "1.2.0",
       "_view_name": "LayoutView",
       "align_content": null,
       "align_items": null,
       "align_self": null,
       "border": null,
       "bottom": null,
       "display": null,
       "flex": null,
       "flex_flow": null,
       "grid_area": null,
       "grid_auto_columns": null,
       "grid_auto_flow": null,
       "grid_auto_rows": null,
       "grid_column": null,
       "grid_gap": null,
       "grid_row": null,
       "grid_template_areas": null,
       "grid_template_columns": null,
       "grid_template_rows": null,
       "height": null,
       "justify_content": null,
       "justify_items": null,
       "left": null,
       "margin": null,
       "max_height": null,
       "max_width": null,
       "min_height": null,
       "min_width": null,
       "object_fit": null,
       "object_position": null,
       "order": null,
       "overflow": null,
       "overflow_x": null,
       "overflow_y": null,
       "padding": null,
       "right": null,
       "top": null,
       "visibility": null,
       "width": null
      }
     },
     "2a143689c9b743a0926e0aa1c6e1d469": {
      "model_module": "@jupyter-widgets/controls",
      "model_module_version": "1.5.0",
      "model_name": "DescriptionStyleModel",
      "state": {
       "_model_module": "@jupyter-widgets/controls",
       "_model_module_version": "1.5.0",
       "_model_name": "DescriptionStyleModel",
       "_view_count": null,
       "_view_module": "@jupyter-widgets/base",
       "_view_module_version": "1.2.0",
       "_view_name": "StyleView",
       "description_width": ""
      }
     },
     "3711007795d4463ca76e3d371cba5a0b": {
      "model_module": "@jupyter-widgets/controls",
      "model_module_version": "1.5.0",
      "model_name": "HTMLModel",
      "state": {
       "_dom_classes": [],
       "_model_module": "@jupyter-widgets/controls",
       "_model_module_version": "1.5.0",
       "_model_name": "HTMLModel",
       "_view_count": null,
       "_view_module": "@jupyter-widgets/controls",
       "_view_module_version": "1.5.0",
       "_view_name": "HTMLView",
       "description": "",
       "description_tooltip": null,
       "layout": "IPY_MODEL_e83892eb38614ba69fb5bf5fdbf73ea3",
       "placeholder": "​",
       "style": "IPY_MODEL_1c06a10af6124c15a9c3fc811c14a47d",
       "value": "Summarize dataset: 100%"
      }
     },
     "414ac15ee34e439daa9efb03926a2d31": {
      "model_module": "@jupyter-widgets/controls",
      "model_module_version": "1.5.0",
      "model_name": "ProgressStyleModel",
      "state": {
       "_model_module": "@jupyter-widgets/controls",
       "_model_module_version": "1.5.0",
       "_model_name": "ProgressStyleModel",
       "_view_count": null,
       "_view_module": "@jupyter-widgets/base",
       "_view_module_version": "1.2.0",
       "_view_name": "StyleView",
       "bar_color": null,
       "description_width": ""
      }
     },
     "4709c1a3633844678967ef1fd129b11b": {
      "model_module": "@jupyter-widgets/controls",
      "model_module_version": "1.5.0",
      "model_name": "HTMLModel",
      "state": {
       "_dom_classes": [],
       "_model_module": "@jupyter-widgets/controls",
       "_model_module_version": "1.5.0",
       "_model_name": "HTMLModel",
       "_view_count": null,
       "_view_module": "@jupyter-widgets/controls",
       "_view_module_version": "1.5.0",
       "_view_name": "HTMLView",
       "description": "",
       "description_tooltip": null,
       "layout": "IPY_MODEL_d1b9ab40ce7a49c2a2d14ed690d22243",
       "placeholder": "​",
       "style": "IPY_MODEL_c961bc35d7ee40969914149614384615",
       "value": "Generate report structure: 100%"
      }
     },
     "48b9a639af3142debfa5cd71d0abe68e": {
      "model_module": "@jupyter-widgets/base",
      "model_module_version": "1.2.0",
      "model_name": "LayoutModel",
      "state": {
       "_model_module": "@jupyter-widgets/base",
       "_model_module_version": "1.2.0",
       "_model_name": "LayoutModel",
       "_view_count": null,
       "_view_module": "@jupyter-widgets/base",
       "_view_module_version": "1.2.0",
       "_view_name": "LayoutView",
       "align_content": null,
       "align_items": null,
       "align_self": null,
       "border": null,
       "bottom": null,
       "display": null,
       "flex": null,
       "flex_flow": null,
       "grid_area": null,
       "grid_auto_columns": null,
       "grid_auto_flow": null,
       "grid_auto_rows": null,
       "grid_column": null,
       "grid_gap": null,
       "grid_row": null,
       "grid_template_areas": null,
       "grid_template_columns": null,
       "grid_template_rows": null,
       "height": null,
       "justify_content": null,
       "justify_items": null,
       "left": null,
       "margin": null,
       "max_height": null,
       "max_width": null,
       "min_height": null,
       "min_width": null,
       "object_fit": null,
       "object_position": null,
       "order": null,
       "overflow": null,
       "overflow_x": null,
       "overflow_y": null,
       "padding": null,
       "right": null,
       "top": null,
       "visibility": null,
       "width": null
      }
     },
     "4efe41401ca1438eb5e41a3d5cd16915": {
      "model_module": "@jupyter-widgets/controls",
      "model_module_version": "1.5.0",
      "model_name": "DescriptionStyleModel",
      "state": {
       "_model_module": "@jupyter-widgets/controls",
       "_model_module_version": "1.5.0",
       "_model_name": "DescriptionStyleModel",
       "_view_count": null,
       "_view_module": "@jupyter-widgets/base",
       "_view_module_version": "1.2.0",
       "_view_name": "StyleView",
       "description_width": ""
      }
     },
     "52c287dcc85a47ee802a2ac61b52867e": {
      "model_module": "@jupyter-widgets/controls",
      "model_module_version": "1.5.0",
      "model_name": "FloatProgressModel",
      "state": {
       "_dom_classes": [],
       "_model_module": "@jupyter-widgets/controls",
       "_model_module_version": "1.5.0",
       "_model_name": "FloatProgressModel",
       "_view_count": null,
       "_view_module": "@jupyter-widgets/controls",
       "_view_module_version": "1.5.0",
       "_view_name": "ProgressView",
       "bar_style": "success",
       "description": "",
       "description_tooltip": null,
       "layout": "IPY_MODEL_2832320529c94d7daf6e9f9d7dccee7d",
       "max": 1.0,
       "min": 0.0,
       "orientation": "horizontal",
       "style": "IPY_MODEL_414ac15ee34e439daa9efb03926a2d31",
       "value": 1.0
      }
     },
     "6070d536d91f4c75a0fd8dac10d2e37b": {
      "model_module": "@jupyter-widgets/controls",
      "model_module_version": "1.5.0",
      "model_name": "ProgressStyleModel",
      "state": {
       "_model_module": "@jupyter-widgets/controls",
       "_model_module_version": "1.5.0",
       "_model_name": "ProgressStyleModel",
       "_view_count": null,
       "_view_module": "@jupyter-widgets/base",
       "_view_module_version": "1.2.0",
       "_view_name": "StyleView",
       "bar_color": null,
       "description_width": ""
      }
     },
     "60b7a729389746239792e6c1578cb407": {
      "model_module": "@jupyter-widgets/controls",
      "model_module_version": "1.5.0",
      "model_name": "FloatProgressModel",
      "state": {
       "_dom_classes": [],
       "_model_module": "@jupyter-widgets/controls",
       "_model_module_version": "1.5.0",
       "_model_name": "FloatProgressModel",
       "_view_count": null,
       "_view_module": "@jupyter-widgets/controls",
       "_view_module_version": "1.5.0",
       "_view_name": "ProgressView",
       "bar_style": "success",
       "description": "",
       "description_tooltip": null,
       "layout": "IPY_MODEL_fafa27319d8a4504a43522fedd216e33",
       "max": 5.0,
       "min": 0.0,
       "orientation": "horizontal",
       "style": "IPY_MODEL_6070d536d91f4c75a0fd8dac10d2e37b",
       "value": 5.0
      }
     },
     "60f71f8e09ab4e1fb23bf8cbc6fb3384": {
      "model_module": "@jupyter-widgets/controls",
      "model_module_version": "1.5.0",
      "model_name": "HBoxModel",
      "state": {
       "_dom_classes": [],
       "_model_module": "@jupyter-widgets/controls",
       "_model_module_version": "1.5.0",
       "_model_name": "HBoxModel",
       "_view_count": null,
       "_view_module": "@jupyter-widgets/controls",
       "_view_module_version": "1.5.0",
       "_view_name": "HBoxView",
       "box_style": "",
       "children": [
        "IPY_MODEL_4709c1a3633844678967ef1fd129b11b",
        "IPY_MODEL_9fb37074e6ae4b6882800261ff55c8be",
        "IPY_MODEL_062d3840e00f4e1c858d5cfdc87fe9fc"
       ],
       "layout": "IPY_MODEL_071d87541d2d4707be7307d3dbde41d7"
      }
     },
     "64e2761f49594404b3fa174d278c7c31": {
      "model_module": "@jupyter-widgets/controls",
      "model_module_version": "1.5.0",
      "model_name": "HBoxModel",
      "state": {
       "_dom_classes": [],
       "_model_module": "@jupyter-widgets/controls",
       "_model_module_version": "1.5.0",
       "_model_name": "HBoxModel",
       "_view_count": null,
       "_view_module": "@jupyter-widgets/controls",
       "_view_module_version": "1.5.0",
       "_view_name": "HBoxView",
       "box_style": "",
       "children": [
        "IPY_MODEL_eff9007cee3e447389ebaafeea1c4094",
        "IPY_MODEL_52c287dcc85a47ee802a2ac61b52867e",
        "IPY_MODEL_b3fa69badc2f487dbc3b0422acb29f9c"
       ],
       "layout": "IPY_MODEL_98d3c5d28ab34eaea189849d32941a79"
      }
     },
     "71baead4d90d4d6a873e0737e597fa79": {
      "model_module": "@jupyter-widgets/base",
      "model_module_version": "1.2.0",
      "model_name": "LayoutModel",
      "state": {
       "_model_module": "@jupyter-widgets/base",
       "_model_module_version": "1.2.0",
       "_model_name": "LayoutModel",
       "_view_count": null,
       "_view_module": "@jupyter-widgets/base",
       "_view_module_version": "1.2.0",
       "_view_name": "LayoutView",
       "align_content": null,
       "align_items": null,
       "align_self": null,
       "border": null,
       "bottom": null,
       "display": null,
       "flex": null,
       "flex_flow": null,
       "grid_area": null,
       "grid_auto_columns": null,
       "grid_auto_flow": null,
       "grid_auto_rows": null,
       "grid_column": null,
       "grid_gap": null,
       "grid_row": null,
       "grid_template_areas": null,
       "grid_template_columns": null,
       "grid_template_rows": null,
       "height": null,
       "justify_content": null,
       "justify_items": null,
       "left": null,
       "margin": null,
       "max_height": null,
       "max_width": null,
       "min_height": null,
       "min_width": null,
       "object_fit": null,
       "object_position": null,
       "order": null,
       "overflow": null,
       "overflow_x": null,
       "overflow_y": null,
       "padding": null,
       "right": null,
       "top": null,
       "visibility": null,
       "width": null
      }
     },
     "7b0c892167b942d79c6e23f989a1567e": {
      "model_module": "@jupyter-widgets/base",
      "model_module_version": "1.2.0",
      "model_name": "LayoutModel",
      "state": {
       "_model_module": "@jupyter-widgets/base",
       "_model_module_version": "1.2.0",
       "_model_name": "LayoutModel",
       "_view_count": null,
       "_view_module": "@jupyter-widgets/base",
       "_view_module_version": "1.2.0",
       "_view_name": "LayoutView",
       "align_content": null,
       "align_items": null,
       "align_self": null,
       "border": null,
       "bottom": null,
       "display": null,
       "flex": null,
       "flex_flow": null,
       "grid_area": null,
       "grid_auto_columns": null,
       "grid_auto_flow": null,
       "grid_auto_rows": null,
       "grid_column": null,
       "grid_gap": null,
       "grid_row": null,
       "grid_template_areas": null,
       "grid_template_columns": null,
       "grid_template_rows": null,
       "height": null,
       "justify_content": null,
       "justify_items": null,
       "left": null,
       "margin": null,
       "max_height": null,
       "max_width": null,
       "min_height": null,
       "min_width": null,
       "object_fit": null,
       "object_position": null,
       "order": null,
       "overflow": null,
       "overflow_x": null,
       "overflow_y": null,
       "padding": null,
       "right": null,
       "top": null,
       "visibility": null,
       "width": null
      }
     },
     "81cecb950f4f457d80ac0850ff668843": {
      "model_module": "@jupyter-widgets/base",
      "model_module_version": "1.2.0",
      "model_name": "LayoutModel",
      "state": {
       "_model_module": "@jupyter-widgets/base",
       "_model_module_version": "1.2.0",
       "_model_name": "LayoutModel",
       "_view_count": null,
       "_view_module": "@jupyter-widgets/base",
       "_view_module_version": "1.2.0",
       "_view_name": "LayoutView",
       "align_content": null,
       "align_items": null,
       "align_self": null,
       "border": null,
       "bottom": null,
       "display": null,
       "flex": null,
       "flex_flow": null,
       "grid_area": null,
       "grid_auto_columns": null,
       "grid_auto_flow": null,
       "grid_auto_rows": null,
       "grid_column": null,
       "grid_gap": null,
       "grid_row": null,
       "grid_template_areas": null,
       "grid_template_columns": null,
       "grid_template_rows": null,
       "height": null,
       "justify_content": null,
       "justify_items": null,
       "left": null,
       "margin": null,
       "max_height": null,
       "max_width": null,
       "min_height": null,
       "min_width": null,
       "object_fit": null,
       "object_position": null,
       "order": null,
       "overflow": null,
       "overflow_x": null,
       "overflow_y": null,
       "padding": null,
       "right": null,
       "top": null,
       "visibility": null,
       "width": null
      }
     },
     "83246cc0828d41e2aae0e825f1433906": {
      "model_module": "@jupyter-widgets/controls",
      "model_module_version": "1.5.0",
      "model_name": "ProgressStyleModel",
      "state": {
       "_model_module": "@jupyter-widgets/controls",
       "_model_module_version": "1.5.0",
       "_model_name": "ProgressStyleModel",
       "_view_count": null,
       "_view_module": "@jupyter-widgets/base",
       "_view_module_version": "1.2.0",
       "_view_name": "StyleView",
       "bar_color": null,
       "description_width": ""
      }
     },
     "98d3c5d28ab34eaea189849d32941a79": {
      "model_module": "@jupyter-widgets/base",
      "model_module_version": "1.2.0",
      "model_name": "LayoutModel",
      "state": {
       "_model_module": "@jupyter-widgets/base",
       "_model_module_version": "1.2.0",
       "_model_name": "LayoutModel",
       "_view_count": null,
       "_view_module": "@jupyter-widgets/base",
       "_view_module_version": "1.2.0",
       "_view_name": "LayoutView",
       "align_content": null,
       "align_items": null,
       "align_self": null,
       "border": null,
       "bottom": null,
       "display": null,
       "flex": null,
       "flex_flow": null,
       "grid_area": null,
       "grid_auto_columns": null,
       "grid_auto_flow": null,
       "grid_auto_rows": null,
       "grid_column": null,
       "grid_gap": null,
       "grid_row": null,
       "grid_template_areas": null,
       "grid_template_columns": null,
       "grid_template_rows": null,
       "height": null,
       "justify_content": null,
       "justify_items": null,
       "left": null,
       "margin": null,
       "max_height": null,
       "max_width": null,
       "min_height": null,
       "min_width": null,
       "object_fit": null,
       "object_position": null,
       "order": null,
       "overflow": null,
       "overflow_x": null,
       "overflow_y": null,
       "padding": null,
       "right": null,
       "top": null,
       "visibility": null,
       "width": null
      }
     },
     "9c0286cb80c4499b83c239fe1d33982c": {
      "model_module": "@jupyter-widgets/controls",
      "model_module_version": "1.5.0",
      "model_name": "DescriptionStyleModel",
      "state": {
       "_model_module": "@jupyter-widgets/controls",
       "_model_module_version": "1.5.0",
       "_model_name": "DescriptionStyleModel",
       "_view_count": null,
       "_view_module": "@jupyter-widgets/base",
       "_view_module_version": "1.2.0",
       "_view_name": "StyleView",
       "description_width": ""
      }
     },
     "9fb37074e6ae4b6882800261ff55c8be": {
      "model_module": "@jupyter-widgets/controls",
      "model_module_version": "1.5.0",
      "model_name": "FloatProgressModel",
      "state": {
       "_dom_classes": [],
       "_model_module": "@jupyter-widgets/controls",
       "_model_module_version": "1.5.0",
       "_model_name": "FloatProgressModel",
       "_view_count": null,
       "_view_module": "@jupyter-widgets/controls",
       "_view_module_version": "1.5.0",
       "_view_name": "ProgressView",
       "bar_style": "success",
       "description": "",
       "description_tooltip": null,
       "layout": "IPY_MODEL_24db86d72c5947ab8b2bb4366606d4f7",
       "max": 1.0,
       "min": 0.0,
       "orientation": "horizontal",
       "style": "IPY_MODEL_83246cc0828d41e2aae0e825f1433906",
       "value": 1.0
      }
     },
     "b3fa69badc2f487dbc3b0422acb29f9c": {
      "model_module": "@jupyter-widgets/controls",
      "model_module_version": "1.5.0",
      "model_name": "HTMLModel",
      "state": {
       "_dom_classes": [],
       "_model_module": "@jupyter-widgets/controls",
       "_model_module_version": "1.5.0",
       "_model_name": "HTMLModel",
       "_view_count": null,
       "_view_module": "@jupyter-widgets/controls",
       "_view_module_version": "1.5.0",
       "_view_name": "HTMLView",
       "description": "",
       "description_tooltip": null,
       "layout": "IPY_MODEL_dd0e7b5da8534d398a5775c10fe2fa8d",
       "placeholder": "​",
       "style": "IPY_MODEL_4efe41401ca1438eb5e41a3d5cd16915",
       "value": " 1/1 [00:04&lt;00:00,  4.95s/it]"
      }
     },
     "c961bc35d7ee40969914149614384615": {
      "model_module": "@jupyter-widgets/controls",
      "model_module_version": "1.5.0",
      "model_name": "DescriptionStyleModel",
      "state": {
       "_model_module": "@jupyter-widgets/controls",
       "_model_module_version": "1.5.0",
       "_model_name": "DescriptionStyleModel",
       "_view_count": null,
       "_view_module": "@jupyter-widgets/base",
       "_view_module_version": "1.2.0",
       "_view_name": "StyleView",
       "description_width": ""
      }
     },
     "d1b9ab40ce7a49c2a2d14ed690d22243": {
      "model_module": "@jupyter-widgets/base",
      "model_module_version": "1.2.0",
      "model_name": "LayoutModel",
      "state": {
       "_model_module": "@jupyter-widgets/base",
       "_model_module_version": "1.2.0",
       "_model_name": "LayoutModel",
       "_view_count": null,
       "_view_module": "@jupyter-widgets/base",
       "_view_module_version": "1.2.0",
       "_view_name": "LayoutView",
       "align_content": null,
       "align_items": null,
       "align_self": null,
       "border": null,
       "bottom": null,
       "display": null,
       "flex": null,
       "flex_flow": null,
       "grid_area": null,
       "grid_auto_columns": null,
       "grid_auto_flow": null,
       "grid_auto_rows": null,
       "grid_column": null,
       "grid_gap": null,
       "grid_row": null,
       "grid_template_areas": null,
       "grid_template_columns": null,
       "grid_template_rows": null,
       "height": null,
       "justify_content": null,
       "justify_items": null,
       "left": null,
       "margin": null,
       "max_height": null,
       "max_width": null,
       "min_height": null,
       "min_width": null,
       "object_fit": null,
       "object_position": null,
       "order": null,
       "overflow": null,
       "overflow_x": null,
       "overflow_y": null,
       "padding": null,
       "right": null,
       "top": null,
       "visibility": null,
       "width": null
      }
     },
     "dd0e7b5da8534d398a5775c10fe2fa8d": {
      "model_module": "@jupyter-widgets/base",
      "model_module_version": "1.2.0",
      "model_name": "LayoutModel",
      "state": {
       "_model_module": "@jupyter-widgets/base",
       "_model_module_version": "1.2.0",
       "_model_name": "LayoutModel",
       "_view_count": null,
       "_view_module": "@jupyter-widgets/base",
       "_view_module_version": "1.2.0",
       "_view_name": "LayoutView",
       "align_content": null,
       "align_items": null,
       "align_self": null,
       "border": null,
       "bottom": null,
       "display": null,
       "flex": null,
       "flex_flow": null,
       "grid_area": null,
       "grid_auto_columns": null,
       "grid_auto_flow": null,
       "grid_auto_rows": null,
       "grid_column": null,
       "grid_gap": null,
       "grid_row": null,
       "grid_template_areas": null,
       "grid_template_columns": null,
       "grid_template_rows": null,
       "height": null,
       "justify_content": null,
       "justify_items": null,
       "left": null,
       "margin": null,
       "max_height": null,
       "max_width": null,
       "min_height": null,
       "min_width": null,
       "object_fit": null,
       "object_position": null,
       "order": null,
       "overflow": null,
       "overflow_x": null,
       "overflow_y": null,
       "padding": null,
       "right": null,
       "top": null,
       "visibility": null,
       "width": null
      }
     },
     "dff0ed6bcf1f4baa9ecaee17d13be765": {
      "model_module": "@jupyter-widgets/controls",
      "model_module_version": "1.5.0",
      "model_name": "HBoxModel",
      "state": {
       "_dom_classes": [],
       "_model_module": "@jupyter-widgets/controls",
       "_model_module_version": "1.5.0",
       "_model_name": "HBoxModel",
       "_view_count": null,
       "_view_module": "@jupyter-widgets/controls",
       "_view_module_version": "1.5.0",
       "_view_name": "HBoxView",
       "box_style": "",
       "children": [
        "IPY_MODEL_3711007795d4463ca76e3d371cba5a0b",
        "IPY_MODEL_60b7a729389746239792e6c1578cb407",
        "IPY_MODEL_1198500d3c6e49d59b59aa9fbbda4282"
       ],
       "layout": "IPY_MODEL_7b0c892167b942d79c6e23f989a1567e"
      }
     },
     "e83892eb38614ba69fb5bf5fdbf73ea3": {
      "model_module": "@jupyter-widgets/base",
      "model_module_version": "1.2.0",
      "model_name": "LayoutModel",
      "state": {
       "_model_module": "@jupyter-widgets/base",
       "_model_module_version": "1.2.0",
       "_model_name": "LayoutModel",
       "_view_count": null,
       "_view_module": "@jupyter-widgets/base",
       "_view_module_version": "1.2.0",
       "_view_name": "LayoutView",
       "align_content": null,
       "align_items": null,
       "align_self": null,
       "border": null,
       "bottom": null,
       "display": null,
       "flex": null,
       "flex_flow": null,
       "grid_area": null,
       "grid_auto_columns": null,
       "grid_auto_flow": null,
       "grid_auto_rows": null,
       "grid_column": null,
       "grid_gap": null,
       "grid_row": null,
       "grid_template_areas": null,
       "grid_template_columns": null,
       "grid_template_rows": null,
       "height": null,
       "justify_content": null,
       "justify_items": null,
       "left": null,
       "margin": null,
       "max_height": null,
       "max_width": null,
       "min_height": null,
       "min_width": null,
       "object_fit": null,
       "object_position": null,
       "order": null,
       "overflow": null,
       "overflow_x": null,
       "overflow_y": null,
       "padding": null,
       "right": null,
       "top": null,
       "visibility": null,
       "width": null
      }
     },
     "eeae4eaad34942349928d462812cbfc9": {
      "model_module": "@jupyter-widgets/controls",
      "model_module_version": "1.5.0",
      "model_name": "DescriptionStyleModel",
      "state": {
       "_model_module": "@jupyter-widgets/controls",
       "_model_module_version": "1.5.0",
       "_model_name": "DescriptionStyleModel",
       "_view_count": null,
       "_view_module": "@jupyter-widgets/base",
       "_view_module_version": "1.2.0",
       "_view_name": "StyleView",
       "description_width": ""
      }
     },
     "eff9007cee3e447389ebaafeea1c4094": {
      "model_module": "@jupyter-widgets/controls",
      "model_module_version": "1.5.0",
      "model_name": "HTMLModel",
      "state": {
       "_dom_classes": [],
       "_model_module": "@jupyter-widgets/controls",
       "_model_module_version": "1.5.0",
       "_model_name": "HTMLModel",
       "_view_count": null,
       "_view_module": "@jupyter-widgets/controls",
       "_view_module_version": "1.5.0",
       "_view_name": "HTMLView",
       "description": "",
       "description_tooltip": null,
       "layout": "IPY_MODEL_48b9a639af3142debfa5cd71d0abe68e",
       "placeholder": "​",
       "style": "IPY_MODEL_9c0286cb80c4499b83c239fe1d33982c",
       "value": "Render HTML: 100%"
      }
     },
     "fafa27319d8a4504a43522fedd216e33": {
      "model_module": "@jupyter-widgets/base",
      "model_module_version": "1.2.0",
      "model_name": "LayoutModel",
      "state": {
       "_model_module": "@jupyter-widgets/base",
       "_model_module_version": "1.2.0",
       "_model_name": "LayoutModel",
       "_view_count": null,
       "_view_module": "@jupyter-widgets/base",
       "_view_module_version": "1.2.0",
       "_view_name": "LayoutView",
       "align_content": null,
       "align_items": null,
       "align_self": null,
       "border": null,
       "bottom": null,
       "display": null,
       "flex": null,
       "flex_flow": null,
       "grid_area": null,
       "grid_auto_columns": null,
       "grid_auto_flow": null,
       "grid_auto_rows": null,
       "grid_column": null,
       "grid_gap": null,
       "grid_row": null,
       "grid_template_areas": null,
       "grid_template_columns": null,
       "grid_template_rows": null,
       "height": null,
       "justify_content": null,
       "justify_items": null,
       "left": null,
       "margin": null,
       "max_height": null,
       "max_width": null,
       "min_height": null,
       "min_width": null,
       "object_fit": null,
       "object_position": null,
       "order": null,
       "overflow": null,
       "overflow_x": null,
       "overflow_y": null,
       "padding": null,
       "right": null,
       "top": null,
       "visibility": null,
       "width": null
      }
     }
    },
    "version_major": 2,
    "version_minor": 0
   }
  }
 },
 "nbformat": 4,
 "nbformat_minor": 5
}
